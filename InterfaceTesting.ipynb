{
 "cells": [
  {
   "cell_type": "markdown",
   "id": "6a87c047-2399-4878-993c-98fec0feec03",
   "metadata": {},
   "source": [
    "import tkinter as tk\n",
    "from tkinter import ttk\n",
    "\n",
    "def add_text():\n",
    "    text = \"Lorem ipsum dolor sit amet, consectetur adipiscing elit. \"\n",
    "    text += \"Sed do eiusmod tempor incididunt ut labore et dolore magna aliqua. \"\n",
    "    text += \"Ut enim ad minim veniam, quis nostrud exercitation ullamco laboris nisi ut aliquip ex ea commodo consequat. \"\n",
    "    text += \"Duis aute irure dolor in reprehenderit in voluptate velit esse cillum dolore eu fugiat nulla pariatur. \"\n",
    "    text += \"Excepteur sint occaecat cupidatat non proident, sunt in culpa qui officia deserunt mollit anim id est laborum.\"\n",
    "    info_text.insert(tk.END, text + \"\\n\\n\")\n",
    "\n",
    "# Create main window\n",
    "root = tk.Tk()\n",
    "root.title(\"Tkinter Interface\")\n",
    "\n",
    "# Frame to hold the buttons\n",
    "button_frame = ttk.Frame(root)\n",
    "button_frame.pack(pady=10)\n",
    "\n",
    "# Button to add text to the info pane\n",
    "add_button = ttk.Button(button_frame, text=\"Add Text\", command=add_text)\n",
    "add_button.grid(row=0, column=0, padx=5)\n",
    "\n",
    "# Button to clear the info pane\n",
    "clear_button = ttk.Button(button_frame, text=\"Clear Text\", command=lambda: info_text.delete(1.0, tk.END))\n",
    "clear_button.grid(row=0, column=1, padx=5)\n",
    "\n",
    "# Frame to hold the scrollable text area\n",
    "info_frame = ttk.Frame(root)\n",
    "info_frame.pack(padx=10, pady=10, fill=tk.BOTH, expand=True)\n",
    "\n",
    "# Scrollbar for the info text\n",
    "scrollbar = ttk.Scrollbar(info_frame)\n",
    "scrollbar.pack(side=tk.RIGHT, fill=tk.Y)\n",
    "\n",
    "# Text widget to display information\n",
    "info_text = tk.Text(info_frame, wrap=tk.WORD, yscrollcommand=scrollbar.set)\n",
    "info_text.pack(fill=tk.BOTH, expand=True)\n",
    "scrollbar.config(command=info_text.yview)\n",
    "\n",
    "# Start the Tkinter main loop\n",
    "root.mainloop()"
   ]
  },
  {
   "cell_type": "code",
   "execution_count": 1,
   "id": "a776e881-e8a8-4ae7-8019-4e9d5f92ab04",
   "metadata": {},
   "outputs": [],
   "source": [
    "import sys \n",
    "sys.path.insert(1, './src/')"
   ]
  },
  {
   "cell_type": "code",
   "execution_count": 2,
   "id": "8a089dbc-b437-4d95-a51a-89d322960c46",
   "metadata": {},
   "outputs": [],
   "source": [
    "from mixers import multimix"
   ]
  },
  {
   "cell_type": "code",
   "execution_count": 3,
   "id": "256ba9b3-b749-4d0c-b3aa-83017f037eeb",
   "metadata": {},
   "outputs": [
    {
     "name": "stdout",
     "output_type": "stream",
     "text": [
      "192.168.1.1 is a valid IP address\n",
      "48010 is a valid port number\n"
     ]
    }
   ],
   "source": [
    "mx = multimix.MultiMix3D(\"192.168.1.1\")"
   ]
  },
  {
   "cell_type": "code",
   "execution_count": 4,
   "id": "48b9335e-2b74-4845-b9db-755b0192b64b",
   "metadata": {},
   "outputs": [
    {
     "data": {
      "text/plain": [
       "'opc.tcp://192.168.1.1:48010'"
      ]
     },
     "execution_count": 4,
     "metadata": {},
     "output_type": "execute_result"
    }
   ],
   "source": [
    "mx.get_client_string()"
   ]
  },
  {
   "cell_type": "code",
   "execution_count": 5,
   "id": "8347c9f3-618a-4c17-bb6e-92477cfd44cc",
   "metadata": {},
   "outputs": [],
   "source": [
    "mx.toggle_heartbeat()"
   ]
  },
  {
   "cell_type": "code",
   "execution_count": 6,
   "id": "06a6c9d7-0724-409b-bb09-583dcc6282fb",
   "metadata": {},
   "outputs": [],
   "source": [
    "mx.toggle_heartbeat()"
   ]
  },
  {
   "cell_type": "code",
   "execution_count": 7,
   "id": "26022dc1-b72f-467c-b23a-d301bc6e234f",
   "metadata": {},
   "outputs": [
    {
     "name": "stdout",
     "output_type": "stream",
     "text": [
      "192.168.1.1 is a valid IP address\n",
      "48010 is a valid port number\n"
     ]
    }
   ],
   "source": [
    "import tkinter as tk\n",
    "from tkinter import ttk\n",
    "import sys \n",
    "import threading\n",
    "# import time\n",
    "\n",
    "sys.path.insert(1, '../')\n",
    "\n",
    "from mixers import multimix\n",
    "\n",
    "mx = multimix.MultiMix3D(\"192.168.1.1\")\n",
    "messaging_thread = ''\n",
    "messaging_run = False\n",
    "\n",
    "def add_text():\n",
    "    global messaging_run\n",
    "    global mx\n",
    "    print(\"starting text\")\n",
    "    while messaging_run:\n",
    "        if mx.messaging_queue.qsize() > 0:\n",
    "            print(\"messaging now\")\n",
    "            text = mx.messaging_queue.get()\n",
    "        \n",
    "            info_text.config(state=tk.NORMAL)  # Allow editing\n",
    "            info_text.insert(tk.END, text + \"\\n\\n\")\n",
    "            info_text.config(state=tk.DISABLED)  # Disable editing after insertion\n",
    "\n",
    "def run_text():\n",
    "    global messaging_run\n",
    "    global messaging_thread\n",
    "    \n",
    "    print(\"Attempting Text Toggle\")\n",
    "\n",
    "    if messaging_run:\n",
    "        print(\"Ending Text Run\")\n",
    "        messaging_run = False\n",
    "        messaging_thread.join()\n",
    "    else:\n",
    "        print(\"Starting Text Run\")\n",
    "        messaging_run = True\n",
    "        messaging_thread = threading.Thread(target=add_text)\n",
    "        messaging_thread.start()\n",
    "\n",
    "def clear_text():\n",
    "    info_text.config(state=tk.NORMAL)\n",
    "    info_text.delete(1.0, tk.END)\n",
    "    info_text.config(state=tk.DISABLED)\n",
    "\n",
    "def toggle_heartbeat_command():\n",
    "    global mx\n",
    "    text = \"Toggling Heartbeat\"\n",
    "    mx.toggle_heartbeat()\n",
    "\n",
    "    info_text.config(state=tk.NORMAL)  # Allow editing\n",
    "    info_text.insert(tk.END, text + \"\\n\\n\")\n",
    "    info_text.config(state=tk.DISABLED)  # Disable editing after insertion\n",
    "\n",
    "# Create main window\n",
    "root = tk.Tk()\n",
    "root.title(\"Tkinter Interface\")\n",
    "\n",
    "# Frame to hold the buttons\n",
    "button_frame = ttk.Frame(root)\n",
    "button_frame.pack(pady=10)\n",
    "\n",
    "# Button to add text to the info pane\n",
    "add_button = ttk.Button(button_frame, text=\"Start Messaging\", command=run_text)\n",
    "add_button.grid(row=0, column=0, padx=5)\n",
    "\n",
    "# Button to clear the info pane\n",
    "clear_button = ttk.Button(button_frame, text=\"Clear Text\", command=clear_text)\n",
    "clear_button.grid(row=0, column=1, padx=5)\n",
    "\n",
    "# Frame to hold the scrollable text area (info pane)\n",
    "info_frame = ttk.Frame(root)\n",
    "info_frame.pack(padx=10, pady=10, fill=tk.BOTH, expand=True)\n",
    "\n",
    "# Scrollbar for the info text\n",
    "scrollbar = ttk.Scrollbar(info_frame)\n",
    "scrollbar.pack(side=tk.RIGHT, fill=tk.Y)\n",
    "\n",
    "# Text widget to display information (info pane)\n",
    "info_text = tk.Text(info_frame, wrap=tk.WORD, yscrollcommand=scrollbar.set, state=tk.DISABLED)\n",
    "info_text.pack(fill=tk.BOTH, expand=True)\n",
    "scrollbar.config(command=info_text.yview)\n",
    "\n",
    "# Frame to hold the command entry and execute button\n",
    "command_frame = ttk.Frame(root)\n",
    "command_frame.pack(padx=10, pady=10, fill=tk.X)\n",
    "\n",
    "# Entry widget for command input\n",
    "command_entry = ttk.Entry(command_frame, width=50)\n",
    "command_entry.grid(row=0, column=0, padx=5, pady=5)\n",
    "\n",
    "# Button to execute command\n",
    "execute_button = ttk.Button(command_frame, text=\"Execute\", command=toggle_heartbeat_command)\n",
    "execute_button.grid(row=0, column=1, padx=5, pady=5)\n",
    "\n",
    "# Start the Tkinter main loop\n",
    "root.mainloop()"
   ]
  },
  {
   "cell_type": "code",
   "execution_count": null,
   "id": "5d9abeea-21ee-4276-b69b-a1d40df0540d",
   "metadata": {},
   "outputs": [],
   "source": []
  }
 ],
 "metadata": {
  "kernelspec": {
   "display_name": "Python 3 (ipykernel)",
   "language": "python",
   "name": "python3"
  },
  "language_info": {
   "codemirror_mode": {
    "name": "ipython",
    "version": 3
   },
   "file_extension": ".py",
   "mimetype": "text/x-python",
   "name": "python",
   "nbconvert_exporter": "python",
   "pygments_lexer": "ipython3",
   "version": "3.11.9"
  }
 },
 "nbformat": 4,
 "nbformat_minor": 5
}
