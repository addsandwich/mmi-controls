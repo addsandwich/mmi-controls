{
 "cells": [
  {
   "cell_type": "code",
   "execution_count": 2,
   "id": "27371f7f-84e5-4f33-af01-c3fc8091bfcf",
   "metadata": {},
   "outputs": [],
   "source": [
    "import opcua\n",
    "from opcua.client import client"
   ]
  },
  {
   "cell_type": "code",
   "execution_count": null,
   "id": "f1f3c253-12a7-4547-ab0d-347635067989",
   "metadata": {},
   "outputs": [],
   "source": [
    "mxcl = client.Client(opc.tcp://localhost:4840)"
   ]
  }
 ],
 "metadata": {
  "kernelspec": {
   "display_name": "Python 3 (ipykernel)",
   "language": "python",
   "name": "python3"
  },
  "language_info": {
   "codemirror_mode": {
    "name": "ipython",
    "version": 3
   },
   "file_extension": ".py",
   "mimetype": "text/x-python",
   "name": "python",
   "nbconvert_exporter": "python",
   "pygments_lexer": "ipython3",
   "version": "3.11.9"
  }
 },
 "nbformat": 4,
 "nbformat_minor": 5
}
