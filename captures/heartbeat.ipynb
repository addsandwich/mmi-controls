{
 "cells": [
  {
   "cell_type": "code",
   "execution_count": 2,
   "id": "97e51df1-44f1-4edf-b0b8-d08680f13666",
   "metadata": {},
   "outputs": [],
   "source": [
    "import opcua\n",
    "from opcua.client import client\n",
    "import time\n",
    "import json\n",
    "import datetime\n"
   ]
  },
  {
   "cell_type": "code",
   "execution_count": 3,
   "id": "430ebb06-c3fc-465a-928c-23939ecb260e",
   "metadata": {},
   "outputs": [],
   "source": [
    "mxcl = client.Client(\"opc.tcp://192.168.1.2:48010\")"
   ]
  },
  {
   "cell_type": "code",
   "execution_count": 4,
   "id": "d2352d10-bf71-4e04-8b18-2717b7688db5",
   "metadata": {},
   "outputs": [],
   "source": [
    "mxcl.connect()"
   ]
  },
  {
   "cell_type": "code",
   "execution_count": 5,
   "id": "638843e9-3d09-463d-a882-11a7b7279f04",
   "metadata": {},
   "outputs": [],
   "source": [
    "objnode = mxcl.get_objects_node()"
   ]
  },
  {
   "cell_type": "code",
   "execution_count": 6,
   "id": "dc1d1899-ecb8-4aa7-ba49-81da0fea0f1f",
   "metadata": {},
   "outputs": [],
   "source": [
    "values_node = objnode.get_children()[3]"
   ]
  },
  {
   "cell_type": "code",
   "execution_count": 7,
   "id": "a1fe6001-7427-4846-8303-8f5d8571f5f6",
   "metadata": {},
   "outputs": [],
   "source": [
    "attributes_node = values_node.get_children()[0]"
   ]
  },
  {
   "cell_type": "code",
   "execution_count": 8,
   "id": "d3cf6f2e-6133-4d30-a6e6-d6c3b7eee068",
   "metadata": {},
   "outputs": [
    {
     "data": {
      "text/plain": [
       "[Node(StringNodeId(ns=2;s=Tags.GECO/MPRX_DI_DOS1_Flowrate_50Hz_mlmin_I)),\n",
       " Node(StringNodeId(ns=2;s=Tags.GECO/MPRX_DI_DOS2_Flowrate_50Hz_mlmin_I)),\n",
       " Node(StringNodeId(ns=2;s=Tags.GECO/MPRX_DI_DOS3_Flowrate_50Hz_mlmin_I)),\n",
       " Node(StringNodeId(ns=2;s=Tags.GECO/MPRX_DI_FOG_Flowrate_50Hz_lmin_I)),\n",
       " Node(StringNodeId(ns=2;s=Tags.GECO/MPRX_DI_FOG_Foam_Air_Factor_I)),\n",
       " Node(StringNodeId(ns=2;s=Tags.GECO/MPRX_DI_FOG_Foam_Density_gl_I)),\n",
       " Node(StringNodeId(ns=2;s=Tags.GECO/MPRX_DI_FOG_Foam_Loss_Factor_pct_I)),\n",
       " Node(StringNodeId(ns=2;s=Tags.GECO/MPRX_DI_FOG_Foamingagent_pct_R)),\n",
       " Node(StringNodeId(ns=2;s=Tags.GECO/MPRX_DI_FOG_RESERVED_Foamingagent_cpct_I)),\n",
       " Node(StringNodeId(ns=2;s=Tags.GECO/MPRX_DI_MIX_Speed_Hz_I)),\n",
       " Node(StringNodeId(ns=2;s=Tags.GECO/MPRX_DI_Mixer_After_Water_s_R)),\n",
       " Node(StringNodeId(ns=2;s=Tags.GECO/MPRX_DI_Mixer_Disabled)),\n",
       " Node(StringNodeId(ns=2;s=Tags.GECO/MPRX_DI_Pressure_Limit_bar_R)),\n",
       " Node(StringNodeId(ns=2;s=Tags.GECO/MPRX_DI_Pressure_Reg_Acc_Speed_Hz_s_R)),\n",
       " Node(StringNodeId(ns=2;s=Tags.GECO/MPRX_DI_Pressure_Reg_Active)),\n",
       " Node(StringNodeId(ns=2;s=Tags.GECO/MPRX_DI_Pressure_Reg_Limit_pct_I)),\n",
       " Node(StringNodeId(ns=2;s=Tags.GECO/MPRX_DI_Pressure_Reg_Red_Speed_I)),\n",
       " Node(StringNodeId(ns=2;s=Tags.GECO/MPRX_DI_Pressure_Reg_Start_Freq_Hz_I)),\n",
       " Node(StringNodeId(ns=2;s=Tags.GECO/MPRX_DI_Pump_Auto_Reverse_Run_Active)),\n",
       " Node(StringNodeId(ns=2;s=Tags.GECO/MPRX_DI_Pump_Auto_Reverse_Run_Time_s_I)),\n",
       " Node(StringNodeId(ns=2;s=Tags.GECO/MPRX_DI_Pump_Vib_Mode_I)),\n",
       " Node(StringNodeId(ns=2;s=Tags.GECO/MPRX_DI_Pump_Vib_Pause_Time_s_I)),\n",
       " Node(StringNodeId(ns=2;s=Tags.GECO/MPRX_DI_Pump_Vib_Run_Time_s_I)),\n",
       " Node(StringNodeId(ns=2;s=Tags.GECO/MPRX_DI_Reset_Error)),\n",
       " Node(StringNodeId(ns=2;s=Tags.GECO/MPRX_DI_SLD_Printhead_active)),\n",
       " Node(StringNodeId(ns=2;s=Tags.GECO/MPRX_DI_Water_Before_Mixer_s_R)),\n",
       " Node(StringNodeId(ns=2;s=Tags.GECO/MPRX_DI_Water_Flowrate_Set_lh_I)),\n",
       " Node(StringNodeId(ns=2;s=Tags.GECO/MPRX_DI_Wetprobe_Upper_Cov_Delay_s_I)),\n",
       " Node(StringNodeId(ns=2;s=Tags.GECO/MPRX_DI_Wetprobe_Upper_NCov_Delay_s_I)),\n",
       " Node(StringNodeId(ns=2;s=Tags.GECO/MPRX_EXT_DOS1_Run)),\n",
       " Node(StringNodeId(ns=2;s=Tags.GECO/MPRX_EXT_DOS2_Run)),\n",
       " Node(StringNodeId(ns=2;s=Tags.GECO/MPRX_EXT_DOS3_Run)),\n",
       " Node(StringNodeId(ns=2;s=Tags.GECO/MPRX_EXT_FOG_Run)),\n",
       " Node(StringNodeId(ns=2;s=Tags.GECO/MPRX_EXT_Heartbeat)),\n",
       " Node(StringNodeId(ns=2;s=Tags.GECO/MPRX_EXT_MIX_Run)),\n",
       " Node(StringNodeId(ns=2;s=Tags.GECO/MPRX_EXT_Pump_Run)),\n",
       " Node(StringNodeId(ns=2;s=Tags.GECO/MPRX_EXT_Pump_Run_Reverse)),\n",
       " Node(StringNodeId(ns=2;s=Tags.GECO/MPRX_EXT_Pump_Speed_cHz_I)),\n",
       " Node(StringNodeId(ns=2;s=Tags.GECO/MPTX_DI_Air_Humidity_pct_R)),\n",
       " Node(StringNodeId(ns=2;s=Tags.GECO/MPTX_DI_Air_Temperature_C_R)),\n",
       " Node(StringNodeId(ns=2;s=Tags.GECO/MPTX_DI_Mortar_Temperature_C_R)),\n",
       " Node(StringNodeId(ns=2;s=Tags.GECO/MPTX_DI_Water_Temperature_C_R)),\n",
       " Node(StringNodeId(ns=2;s=Tags.GECO/MPXMB_Mixer_OutputCurrent_dA_I)),\n",
       " Node(StringNodeId(ns=2;s=Tags.GECO/MPXMB_Pump_OutputCurrent_dA_I)),\n",
       " Node(StringNodeId(ns=2;s=Tags.GECO/MPXMB_Pump_OutputPower_W_I)),\n",
       " Node(StringNodeId(ns=2;s=Tags.GECO/MPXMB_Waterpump_OutputFrequency_cHz_I)),\n",
       " Node(StringNodeId(ns=2;s=Tags.GECO/MPYMB_Waterpump_FrequencyRef_cHz_I)),\n",
       " Node(StringNodeId(ns=2;s=Tags.GECO/MPY_Valve_Watertank)),\n",
       " Node(StringNodeId(ns=2;s=Tags.GECO/MP_Auto_On)),\n",
       " Node(StringNodeId(ns=2;s=Tags.GECO/MP_DOS1_Flowrate_current_mlmin_I)),\n",
       " Node(StringNodeId(ns=2;s=Tags.GECO/MP_DOS2_Flowrate_current_mlmin_I)),\n",
       " Node(StringNodeId(ns=2;s=Tags.GECO/MP_DOS3_Flowrate_current_mlmin_I)),\n",
       " Node(StringNodeId(ns=2;s=Tags.GECO/MP_Error_Any_Active)),\n",
       " Node(StringNodeId(ns=2;s=Tags.GECO/MP_Master_On)),\n",
       " Node(StringNodeId(ns=2;s=Tags.GECO/MP_Mixer_Run)),\n",
       " Node(StringNodeId(ns=2;s=Tags.GECO/MP_Pressure_reached)),\n",
       " Node(StringNodeId(ns=2;s=Tags.GECO/MP_Pump_Pressure_Current_bar_R)),\n",
       " Node(StringNodeId(ns=2;s=Tags.GECO/MP_Pump_Run)),\n",
       " Node(StringNodeId(ns=2;s=Tags.GECO/MP_Water_Run)),\n",
       " Node(StringNodeId(ns=2;s=Tags.GECO/MP_Waterflowrate_current_Lh_R)),\n",
       " Node(StringNodeId(ns=2;s=Tags.GECO/MP_Waterprobe_Upper_Cov)),\n",
       " Node(StringNodeId(ns=2;s=Tags.PH/PHRX_DI_DOS_Flowrate_Set_mlmin_I)),\n",
       " Node(StringNodeId(ns=2;s=Tags.PH/PHRX_DI_DOS_Reverse)),\n",
       " Node(StringNodeId(ns=2;s=Tags.PH/PHRX_DI_DOS_Run)),\n",
       " Node(StringNodeId(ns=2;s=Tags.PH/PHRX_DI_Level_Probe_Acc_Analog_Sensor_active)),\n",
       " Node(StringNodeId(ns=2;s=Tags.PH/PHRX_DI_Mixer_Run)),\n",
       " Node(StringNodeId(ns=2;s=Tags.PH/PHRX_DI_Mixer_Speed_Set_rpm_I)),\n",
       " Node(StringNodeId(ns=2;s=Tags.PH/PHRX_DI_Printhead_1K_Active)),\n",
       " Node(StringNodeId(ns=2;s=Tags.PH/PHRX_EXT_Close_EV_Acc)),\n",
       " Node(StringNodeId(ns=2;s=Tags.PH/PHRX_EXT_Close_EV_Bypass)),\n",
       " Node(StringNodeId(ns=2;s=Tags.PH/PHRX_EXT_Error_Robot)),\n",
       " Node(StringNodeId(ns=2;s=Tags.PH/PHRX_EXT_Open_EV_Acc)),\n",
       " Node(StringNodeId(ns=2;s=Tags.PH/PHRX_EXT_Open_EV_Bypass)),\n",
       " Node(StringNodeId(ns=2;s=Tags.PH/PHRX_EXT_Open_MV_Cleaning)),\n",
       " Node(StringNodeId(ns=2;s=Tags.PH/PHRX_EXT_Open_MV_Cleaning_Dos)),\n",
       " Node(StringNodeId(ns=2;s=Tags.PH/PHRX_EXT_Open_MV_Cleaning_throttled)),\n",
       " Node(StringNodeId(ns=2;s=Tags.PH/PHRX_EXT_Open_MV_Pinch_Valve)),\n",
       " Node(StringNodeId(ns=2;s=Tags.PH/PHRX_EXT_Open_MV_Vibrator)),\n",
       " Node(StringNodeId(ns=2;s=Tags.PH/PHXMB_Dos_OutputFrequency_cHz_I)),\n",
       " Node(StringNodeId(ns=2;s=Tags.PH/PHXMB_Dos_Status_Fault)),\n",
       " Node(StringNodeId(ns=2;s=Tags.PH/PHXMB_Dos_Status_Run)),\n",
       " Node(StringNodeId(ns=2;s=Tags.PH/PHXMB_Mixer_OutputCurrent_dA_I)),\n",
       " Node(StringNodeId(ns=2;s=Tags.PH/PHXMB_Mixer_OutputPower_W_I)),\n",
       " Node(StringNodeId(ns=2;s=Tags.PH/PHXMB_Mixer_Status_Fault)),\n",
       " Node(StringNodeId(ns=2;s=Tags.PH/PHXMB_Mixer_Status_Run)),\n",
       " Node(StringNodeId(ns=2;s=Tags.PH/PHX_Accelerator_Level_Switch)),\n",
       " Node(StringNodeId(ns=2;s=Tags.PH/PHX_EV_Acc_closed)),\n",
       " Node(StringNodeId(ns=2;s=Tags.PH/PHX_EV_Acc_open)),\n",
       " Node(StringNodeId(ns=2;s=Tags.PH/PHX_EV_Bypass_closed)),\n",
       " Node(StringNodeId(ns=2;s=Tags.PH/PHX_EV_Bypass_open)),\n",
       " Node(StringNodeId(ns=2;s=Tags.PH/PHX_Safety_Circuit_Mixer_Triggered)),\n",
       " Node(StringNodeId(ns=2;s=Tags.PH/PHYMB_DOS_FrequencyRef_cHz_I)),\n",
       " Node(StringNodeId(ns=2;s=Tags.PH/PH_Accelerator_Fill_Level_Current_mm_I)),\n",
       " Node(StringNodeId(ns=2;s=Tags.PH/PH_Accelerator_Pressure_Current_bar_R)),\n",
       " Node(StringNodeId(ns=2;s=Tags.PH/PH_Accelerator_Temperature_Current_C_R)),\n",
       " Node(StringNodeId(ns=2;s=Tags.PH/PH_DOS_Flowrate_Current_mlmin_R)),\n",
       " Node(StringNodeId(ns=2;s=Tags.PH/PH_DOS_Pressure_Current_bar_R)),\n",
       " Node(StringNodeId(ns=2;s=Tags.PH/PH_Mixer_Motor_Capacity_pct_I)),\n",
       " Node(StringNodeId(ns=2;s=Tags.PH/PH_Mixer_Speed_Current_Rpm_I)),\n",
       " Node(StringNodeId(ns=2;s=Tags.PH/PH_Mortar_Pressure_In_Current_bar_R)),\n",
       " Node(StringNodeId(ns=2;s=Tags.PH/PH_Mortar_Temperature_In_C_R)),\n",
       " Node(StringNodeId(ns=2;s=Tags.PH/PH_Mortar_Temperature_Out_C_R))]"
      ]
     },
     "execution_count": 8,
     "metadata": {},
     "output_type": "execute_result"
    }
   ],
   "source": [
    "nodes_v = attributes_node.get_children()\n",
    "nodes_v"
   ]
  },
  {
   "cell_type": "code",
   "execution_count": 10,
   "id": "1b991e3f-1a3f-4007-9ee2-4a70aed59a49",
   "metadata": {},
   "outputs": [],
   "source": [
    "node_heartbeat = nodes_v[33]\n",
    "heartbeat_variant = node_heartbeat.get_data_value()\n",
    "heartbeat_variant.Value.Value = True"
   ]
  },
  {
   "cell_type": "code",
   "execution_count": 11,
   "id": "9f817ac7-fdaa-4d62-94e9-96825f727ad4",
   "metadata": {},
   "outputs": [],
   "source": [
    "datavalue = opcua.ua.DataValue(opcua.ua.Variant(True, heartbeat_variant.Value.VariantType), status=None)"
   ]
  },
  {
   "cell_type": "code",
   "execution_count": 12,
   "id": "771299f7-9b98-45c8-a042-f8139236745b",
   "metadata": {},
   "outputs": [
    {
     "data": {
      "text/plain": [
       "DataValue(Value:Variant(val:True,type:VariantType.Boolean), StatusCode:StatusCode(Good))"
      ]
     },
     "execution_count": 12,
     "metadata": {},
     "output_type": "execute_result"
    }
   ],
   "source": [
    "datavalue.status = None\n",
    "datavalue"
   ]
  },
  {
   "cell_type": "code",
   "execution_count": 14,
   "id": "4599d43b-9db3-4dfe-8dd1-9865499b48bc",
   "metadata": {},
   "outputs": [
    {
     "ename": "CancelledError",
     "evalue": "",
     "output_type": "error",
     "traceback": [
      "\u001b[1;31m---------------------------------------------------------------------------\u001b[0m",
      "\u001b[1;31mCancelledError\u001b[0m                            Traceback (most recent call last)",
      "Cell \u001b[1;32mIn[14], line 2\u001b[0m\n\u001b[0;32m      1\u001b[0m \u001b[38;5;28;01mwhile\u001b[39;00m \u001b[38;5;28;01mTrue\u001b[39;00m:\n\u001b[1;32m----> 2\u001b[0m     node_heartbeat\u001b[38;5;241m.\u001b[39mset_attribute(\u001b[38;5;241m13\u001b[39m, datavalue)\n\u001b[0;32m      3\u001b[0m     time\u001b[38;5;241m.\u001b[39msleep(\u001b[38;5;241m.9\u001b[39m)\n",
      "File \u001b[1;32m~\\AppData\\Local\\anaconda3\\envs\\concrete\\Lib\\site-packages\\opcua\\common\\node.py:262\u001b[0m, in \u001b[0;36mNode.set_attribute\u001b[1;34m(self, attributeid, datavalue)\u001b[0m\n\u001b[0;32m    260\u001b[0m params \u001b[38;5;241m=\u001b[39m ua\u001b[38;5;241m.\u001b[39mWriteParameters()\n\u001b[0;32m    261\u001b[0m params\u001b[38;5;241m.\u001b[39mNodesToWrite \u001b[38;5;241m=\u001b[39m [attr]\n\u001b[1;32m--> 262\u001b[0m result \u001b[38;5;241m=\u001b[39m \u001b[38;5;28mself\u001b[39m\u001b[38;5;241m.\u001b[39mserver\u001b[38;5;241m.\u001b[39mwrite(params)\n\u001b[0;32m    263\u001b[0m result[\u001b[38;5;241m0\u001b[39m]\u001b[38;5;241m.\u001b[39mcheck()\n",
      "File \u001b[1;32m~\\AppData\\Local\\anaconda3\\envs\\concrete\\Lib\\site-packages\\opcua\\client\\ua_client.py:367\u001b[0m, in \u001b[0;36mUaClient.write\u001b[1;34m(self, params)\u001b[0m\n\u001b[0;32m    365\u001b[0m request \u001b[38;5;241m=\u001b[39m ua\u001b[38;5;241m.\u001b[39mWriteRequest()\n\u001b[0;32m    366\u001b[0m request\u001b[38;5;241m.\u001b[39mParameters \u001b[38;5;241m=\u001b[39m params\n\u001b[1;32m--> 367\u001b[0m data \u001b[38;5;241m=\u001b[39m \u001b[38;5;28mself\u001b[39m\u001b[38;5;241m.\u001b[39m_uasocket\u001b[38;5;241m.\u001b[39msend_request(request)\n\u001b[0;32m    368\u001b[0m response \u001b[38;5;241m=\u001b[39m struct_from_binary(ua\u001b[38;5;241m.\u001b[39mWriteResponse, data)\n\u001b[0;32m    369\u001b[0m \u001b[38;5;28mself\u001b[39m\u001b[38;5;241m.\u001b[39mlogger\u001b[38;5;241m.\u001b[39mdebug(response)\n",
      "File \u001b[1;32m~\\AppData\\Local\\anaconda3\\envs\\concrete\\Lib\\site-packages\\opcua\\client\\ua_client.py:83\u001b[0m, in \u001b[0;36mUASocketClient.send_request\u001b[1;34m(self, request, callback, timeout, message_type)\u001b[0m\n\u001b[0;32m     81\u001b[0m future \u001b[38;5;241m=\u001b[39m \u001b[38;5;28mself\u001b[39m\u001b[38;5;241m.\u001b[39m_send_request(request, callback, timeout, message_type)\n\u001b[0;32m     82\u001b[0m \u001b[38;5;28;01mif\u001b[39;00m \u001b[38;5;129;01mnot\u001b[39;00m callback:\n\u001b[1;32m---> 83\u001b[0m     data \u001b[38;5;241m=\u001b[39m future\u001b[38;5;241m.\u001b[39mresult(\u001b[38;5;28mself\u001b[39m\u001b[38;5;241m.\u001b[39mtimeout)\n\u001b[0;32m     84\u001b[0m     \u001b[38;5;28mself\u001b[39m\u001b[38;5;241m.\u001b[39mcheck_answer(data, \u001b[38;5;124m\"\u001b[39m\u001b[38;5;124m in response to \u001b[39m\u001b[38;5;124m\"\u001b[39m \u001b[38;5;241m+\u001b[39m request\u001b[38;5;241m.\u001b[39m\u001b[38;5;18m__class__\u001b[39m\u001b[38;5;241m.\u001b[39m\u001b[38;5;18m__name__\u001b[39m)\n\u001b[0;32m     85\u001b[0m     \u001b[38;5;28;01mreturn\u001b[39;00m data\n",
      "File \u001b[1;32m~\\AppData\\Local\\anaconda3\\envs\\concrete\\Lib\\concurrent\\futures\\_base.py:454\u001b[0m, in \u001b[0;36mFuture.result\u001b[1;34m(self, timeout)\u001b[0m\n\u001b[0;32m    451\u001b[0m \u001b[38;5;28mself\u001b[39m\u001b[38;5;241m.\u001b[39m_condition\u001b[38;5;241m.\u001b[39mwait(timeout)\n\u001b[0;32m    453\u001b[0m \u001b[38;5;28;01mif\u001b[39;00m \u001b[38;5;28mself\u001b[39m\u001b[38;5;241m.\u001b[39m_state \u001b[38;5;129;01min\u001b[39;00m [CANCELLED, CANCELLED_AND_NOTIFIED]:\n\u001b[1;32m--> 454\u001b[0m     \u001b[38;5;28;01mraise\u001b[39;00m CancelledError()\n\u001b[0;32m    455\u001b[0m \u001b[38;5;28;01melif\u001b[39;00m \u001b[38;5;28mself\u001b[39m\u001b[38;5;241m.\u001b[39m_state \u001b[38;5;241m==\u001b[39m FINISHED:\n\u001b[0;32m    456\u001b[0m     \u001b[38;5;28;01mreturn\u001b[39;00m \u001b[38;5;28mself\u001b[39m\u001b[38;5;241m.\u001b[39m__get_result()\n",
      "\u001b[1;31mCancelledError\u001b[0m: "
     ]
    },
    {
     "name": "stderr",
     "output_type": "stream",
     "text": [
      "Exception in thread Thread-6:\n",
      "Traceback (most recent call last):\n",
      "  File \"C:\\Users\\cjwattz\\AppData\\Local\\anaconda3\\envs\\concrete\\Lib\\threading.py\", line 1045, in _bootstrap_inner\n",
      "    self.run()\n",
      "  File \"C:\\Users\\cjwattz\\AppData\\Local\\anaconda3\\envs\\concrete\\Lib\\site-packages\\opcua\\client\\client.py\", line 66, in run\n",
      "    self.client.open_secure_channel(renew=True)\n",
      "  File \"C:\\Users\\cjwattz\\AppData\\Local\\anaconda3\\envs\\concrete\\Lib\\site-packages\\opcua\\client\\client.py\", line 335, in open_secure_channel\n",
      "    result = self.uaclient.open_secure_channel(params)\n",
      "             ^^^^^^^^^^^^^^^^^^^^^^^^^^^^^^^^^^^^^^^^^\n",
      "  File \"C:\\Users\\cjwattz\\AppData\\Local\\anaconda3\\envs\\concrete\\Lib\\site-packages\\opcua\\client\\ua_client.py\", line 275, in open_secure_channel\n",
      "    return self._uasocket.open_secure_channel(params)\n",
      "           ^^^^^^^^^^^^^^^^^^^^^^^^^^^^^^^^^^^^^^^^^^\n",
      "  File \"C:\\Users\\cjwattz\\AppData\\Local\\anaconda3\\envs\\concrete\\Lib\\site-packages\\opcua\\client\\ua_client.py\", line 207, in open_secure_channel\n",
      "    self._send_request(request, message_type=ua.MessageType.SecureOpen, callback=clb)\n",
      "  File \"C:\\Users\\cjwattz\\AppData\\Local\\anaconda3\\envs\\concrete\\Lib\\site-packages\\opcua\\client\\ua_client.py\", line 72, in _send_request\n",
      "    self._socket.write(msg)\n",
      "  File \"C:\\Users\\cjwattz\\AppData\\Local\\anaconda3\\envs\\concrete\\Lib\\site-packages\\opcua\\common\\utils.py\", line 118, in write\n",
      "    self.socket.sendall(data)\n",
      "ConnectionResetError: [WinError 10054] An existing connection was forcibly closed by the remote host\n"
     ]
    }
   ],
   "source": [
    "while True:\n",
    "    node_heartbeat.set_attribute(13, datavalue)\n",
    "    time.sleep(.9)"
   ]
  },
  {
   "cell_type": "code",
   "execution_count": null,
   "id": "36817f65-def6-452b-86e6-58502fa7e183",
   "metadata": {},
   "outputs": [],
   "source": []
  }
 ],
 "metadata": {
  "kernelspec": {
   "display_name": "Python 3 (ipykernel)",
   "language": "python",
   "name": "python3"
  },
  "language_info": {
   "codemirror_mode": {
    "name": "ipython",
    "version": 3
   },
   "file_extension": ".py",
   "mimetype": "text/x-python",
   "name": "python",
   "nbconvert_exporter": "python",
   "pygments_lexer": "ipython3",
   "version": "3.11.9"
  }
 },
 "nbformat": 4,
 "nbformat_minor": 5
}
