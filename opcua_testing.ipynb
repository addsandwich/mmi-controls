{
 "cells": [
  {
   "cell_type": "code",
   "execution_count": 2,
   "id": "27371f7f-84e5-4f33-af01-c3fc8091bfcf",
   "metadata": {},
   "outputs": [],
   "source": [
    "import opcua\n",
    "from opcua.client import client"
   ]
  },
  {
   "cell_type": "code",
   "execution_count": 7,
   "id": "f1f3c253-12a7-4547-ab0d-347635067989",
   "metadata": {},
   "outputs": [],
   "source": [
    "mxcl = client.Client(\"opc.tcp://192.168.1.2:48010\")"
   ]
  },
  {
   "cell_type": "code",
   "execution_count": 8,
   "id": "cd319a0d-72ec-443b-a9da-92a1d097f0a7",
   "metadata": {},
   "outputs": [],
   "source": [
    "mxcl.connect()"
   ]
  },
  {
   "cell_type": "code",
   "execution_count": 14,
   "id": "97b40c6f-4843-4a4c-bbee-54d6a4c414ab",
   "metadata": {},
   "outputs": [],
   "source": [
    "objnode = mxcl.get_objects_node()"
   ]
  },
  {
   "cell_type": "code",
   "execution_count": 15,
   "id": "6283c629-4375-4b85-a816-57247dd66fdc",
   "metadata": {},
   "outputs": [
    {
     "data": {
      "text/plain": [
       "[Node(FourByteNodeId(i=2253)),\n",
       " Node(FourByteNodeId(ns=2;i=1001)),\n",
       " Node(FourByteNodeId(ns=2;i=1002)),\n",
       " Node(FourByteNodeId(ns=2;i=1003))]"
      ]
     },
     "execution_count": 15,
     "metadata": {},
     "output_type": "execute_result"
    }
   ],
   "source": [
    "objnode.get_children()"
   ]
  },
  {
   "cell_type": "code",
   "execution_count": 16,
   "id": "e2a138ab-e17c-4803-9055-72529a25f4cb",
   "metadata": {},
   "outputs": [],
   "source": [
    "values_node = objnode.get_children()[3]"
   ]
  },
  {
   "cell_type": "code",
   "execution_count": 19,
   "id": "777d2e8a-31ec-4ec0-953f-b15f0a54426b",
   "metadata": {},
   "outputs": [],
   "source": [
    "attributes_node = values_node.get_children()[0]"
   ]
  },
  {
   "cell_type": "code",
   "execution_count": 25,
   "id": "3b205736-52b9-4c7a-80f4-01290475dbba",
   "metadata": {},
   "outputs": [
    {
     "data": {
      "text/plain": [
       "[Node(StringNodeId(ns=2;s=Tags.GECO/MPRX_DI_DOS1_Flowrate_50Hz_mlmin_I)),\n",
       " Node(StringNodeId(ns=2;s=Tags.GECO/MPRX_DI_DOS2_Flowrate_50Hz_mlmin_I)),\n",
       " Node(StringNodeId(ns=2;s=Tags.GECO/MPRX_DI_DOS3_Flowrate_50Hz_mlmin_I)),\n",
       " Node(StringNodeId(ns=2;s=Tags.GECO/MPRX_DI_FOG_Flowrate_50Hz_lmin_I)),\n",
       " Node(StringNodeId(ns=2;s=Tags.GECO/MPRX_DI_FOG_Foam_Air_Factor_I)),\n",
       " Node(StringNodeId(ns=2;s=Tags.GECO/MPRX_DI_FOG_Foam_Density_gl_I)),\n",
       " Node(StringNodeId(ns=2;s=Tags.GECO/MPRX_DI_FOG_Foam_Loss_Factor_pct_I)),\n",
       " Node(StringNodeId(ns=2;s=Tags.GECO/MPRX_DI_FOG_Foamingagent_pct_R)),\n",
       " Node(StringNodeId(ns=2;s=Tags.GECO/MPRX_DI_FOG_RESERVED_Foamingagent_cpct_I)),\n",
       " Node(StringNodeId(ns=2;s=Tags.GECO/MPRX_DI_MIX_Speed_Hz_I)),\n",
       " Node(StringNodeId(ns=2;s=Tags.GECO/MPRX_DI_Mixer_After_Water_s_R)),\n",
       " Node(StringNodeId(ns=2;s=Tags.GECO/MPRX_DI_Mixer_Disabled)),\n",
       " Node(StringNodeId(ns=2;s=Tags.GECO/MPRX_DI_Pressure_Limit_bar_R)),\n",
       " Node(StringNodeId(ns=2;s=Tags.GECO/MPRX_DI_Pressure_Reg_Acc_Speed_Hz_s_R)),\n",
       " Node(StringNodeId(ns=2;s=Tags.GECO/MPRX_DI_Pressure_Reg_Active)),\n",
       " Node(StringNodeId(ns=2;s=Tags.GECO/MPRX_DI_Pressure_Reg_Limit_pct_I)),\n",
       " Node(StringNodeId(ns=2;s=Tags.GECO/MPRX_DI_Pressure_Reg_Red_Speed_I)),\n",
       " Node(StringNodeId(ns=2;s=Tags.GECO/MPRX_DI_Pressure_Reg_Start_Freq_Hz_I)),\n",
       " Node(StringNodeId(ns=2;s=Tags.GECO/MPRX_DI_Pump_Auto_Reverse_Run_Active)),\n",
       " Node(StringNodeId(ns=2;s=Tags.GECO/MPRX_DI_Pump_Auto_Reverse_Run_Time_s_I)),\n",
       " Node(StringNodeId(ns=2;s=Tags.GECO/MPRX_DI_Pump_Vib_Mode_I)),\n",
       " Node(StringNodeId(ns=2;s=Tags.GECO/MPRX_DI_Pump_Vib_Pause_Time_s_I)),\n",
       " Node(StringNodeId(ns=2;s=Tags.GECO/MPRX_DI_Pump_Vib_Run_Time_s_I)),\n",
       " Node(StringNodeId(ns=2;s=Tags.GECO/MPRX_DI_Reset_Error)),\n",
       " Node(StringNodeId(ns=2;s=Tags.GECO/MPRX_DI_SLD_Printhead_active)),\n",
       " Node(StringNodeId(ns=2;s=Tags.GECO/MPRX_DI_Water_Before_Mixer_s_R)),\n",
       " Node(StringNodeId(ns=2;s=Tags.GECO/MPRX_DI_Water_Flowrate_Set_lh_I)),\n",
       " Node(StringNodeId(ns=2;s=Tags.GECO/MPRX_DI_Wetprobe_Upper_Cov_Delay_s_I)),\n",
       " Node(StringNodeId(ns=2;s=Tags.GECO/MPRX_DI_Wetprobe_Upper_NCov_Delay_s_I)),\n",
       " Node(StringNodeId(ns=2;s=Tags.GECO/MPRX_EXT_DOS1_Run)),\n",
       " Node(StringNodeId(ns=2;s=Tags.GECO/MPRX_EXT_DOS2_Run)),\n",
       " Node(StringNodeId(ns=2;s=Tags.GECO/MPRX_EXT_DOS3_Run)),\n",
       " Node(StringNodeId(ns=2;s=Tags.GECO/MPRX_EXT_FOG_Run)),\n",
       " Node(StringNodeId(ns=2;s=Tags.GECO/MPRX_EXT_Heartbeat)),\n",
       " Node(StringNodeId(ns=2;s=Tags.GECO/MPRX_EXT_MIX_Run)),\n",
       " Node(StringNodeId(ns=2;s=Tags.GECO/MPRX_EXT_Pump_Run)),\n",
       " Node(StringNodeId(ns=2;s=Tags.GECO/MPRX_EXT_Pump_Run_Reverse)),\n",
       " Node(StringNodeId(ns=2;s=Tags.GECO/MPRX_EXT_Pump_Speed_cHz_I)),\n",
       " Node(StringNodeId(ns=2;s=Tags.GECO/MPTX_DI_Air_Humidity_pct_R)),\n",
       " Node(StringNodeId(ns=2;s=Tags.GECO/MPTX_DI_Air_Temperature_C_R)),\n",
       " Node(StringNodeId(ns=2;s=Tags.GECO/MPTX_DI_Mortar_Temperature_C_R)),\n",
       " Node(StringNodeId(ns=2;s=Tags.GECO/MPTX_DI_Water_Temperature_C_R)),\n",
       " Node(StringNodeId(ns=2;s=Tags.GECO/MPXMB_Mixer_OutputCurrent_dA_I)),\n",
       " Node(StringNodeId(ns=2;s=Tags.GECO/MPXMB_Pump_OutputCurrent_dA_I)),\n",
       " Node(StringNodeId(ns=2;s=Tags.GECO/MPXMB_Pump_OutputPower_W_I)),\n",
       " Node(StringNodeId(ns=2;s=Tags.GECO/MPXMB_Waterpump_OutputFrequency_cHz_I)),\n",
       " Node(StringNodeId(ns=2;s=Tags.GECO/MPYMB_Waterpump_FrequencyRef_cHz_I)),\n",
       " Node(StringNodeId(ns=2;s=Tags.GECO/MPY_Valve_Watertank)),\n",
       " Node(StringNodeId(ns=2;s=Tags.GECO/MP_Auto_On)),\n",
       " Node(StringNodeId(ns=2;s=Tags.GECO/MP_DOS1_Flowrate_current_mlmin_I)),\n",
       " Node(StringNodeId(ns=2;s=Tags.GECO/MP_DOS2_Flowrate_current_mlmin_I)),\n",
       " Node(StringNodeId(ns=2;s=Tags.GECO/MP_DOS3_Flowrate_current_mlmin_I)),\n",
       " Node(StringNodeId(ns=2;s=Tags.GECO/MP_Error_Any_Active)),\n",
       " Node(StringNodeId(ns=2;s=Tags.GECO/MP_Master_On)),\n",
       " Node(StringNodeId(ns=2;s=Tags.GECO/MP_Mixer_Run)),\n",
       " Node(StringNodeId(ns=2;s=Tags.GECO/MP_Pressure_reached)),\n",
       " Node(StringNodeId(ns=2;s=Tags.GECO/MP_Pump_Pressure_Current_bar_R)),\n",
       " Node(StringNodeId(ns=2;s=Tags.GECO/MP_Pump_Run)),\n",
       " Node(StringNodeId(ns=2;s=Tags.GECO/MP_Water_Run)),\n",
       " Node(StringNodeId(ns=2;s=Tags.GECO/MP_Waterflowrate_current_Lh_R)),\n",
       " Node(StringNodeId(ns=2;s=Tags.GECO/MP_Waterprobe_Upper_Cov)),\n",
       " Node(StringNodeId(ns=2;s=Tags.PH/PHRX_DI_DOS_Flowrate_Set_mlmin_I)),\n",
       " Node(StringNodeId(ns=2;s=Tags.PH/PHRX_DI_DOS_Reverse)),\n",
       " Node(StringNodeId(ns=2;s=Tags.PH/PHRX_DI_DOS_Run)),\n",
       " Node(StringNodeId(ns=2;s=Tags.PH/PHRX_DI_Level_Probe_Acc_Analog_Sensor_active)),\n",
       " Node(StringNodeId(ns=2;s=Tags.PH/PHRX_DI_Mixer_Run)),\n",
       " Node(StringNodeId(ns=2;s=Tags.PH/PHRX_DI_Mixer_Speed_Set_rpm_I)),\n",
       " Node(StringNodeId(ns=2;s=Tags.PH/PHRX_DI_Printhead_1K_Active)),\n",
       " Node(StringNodeId(ns=2;s=Tags.PH/PHRX_EXT_Close_EV_Acc)),\n",
       " Node(StringNodeId(ns=2;s=Tags.PH/PHRX_EXT_Close_EV_Bypass)),\n",
       " Node(StringNodeId(ns=2;s=Tags.PH/PHRX_EXT_Error_Robot)),\n",
       " Node(StringNodeId(ns=2;s=Tags.PH/PHRX_EXT_Open_EV_Acc)),\n",
       " Node(StringNodeId(ns=2;s=Tags.PH/PHRX_EXT_Open_EV_Bypass)),\n",
       " Node(StringNodeId(ns=2;s=Tags.PH/PHRX_EXT_Open_MV_Cleaning)),\n",
       " Node(StringNodeId(ns=2;s=Tags.PH/PHRX_EXT_Open_MV_Cleaning_Dos)),\n",
       " Node(StringNodeId(ns=2;s=Tags.PH/PHRX_EXT_Open_MV_Cleaning_throttled)),\n",
       " Node(StringNodeId(ns=2;s=Tags.PH/PHRX_EXT_Open_MV_Pinch_Valve)),\n",
       " Node(StringNodeId(ns=2;s=Tags.PH/PHRX_EXT_Open_MV_Vibrator)),\n",
       " Node(StringNodeId(ns=2;s=Tags.PH/PHXMB_Dos_OutputFrequency_cHz_I)),\n",
       " Node(StringNodeId(ns=2;s=Tags.PH/PHXMB_Dos_Status_Fault)),\n",
       " Node(StringNodeId(ns=2;s=Tags.PH/PHXMB_Dos_Status_Run)),\n",
       " Node(StringNodeId(ns=2;s=Tags.PH/PHXMB_Mixer_OutputCurrent_dA_I)),\n",
       " Node(StringNodeId(ns=2;s=Tags.PH/PHXMB_Mixer_OutputPower_W_I)),\n",
       " Node(StringNodeId(ns=2;s=Tags.PH/PHXMB_Mixer_Status_Fault)),\n",
       " Node(StringNodeId(ns=2;s=Tags.PH/PHXMB_Mixer_Status_Run)),\n",
       " Node(StringNodeId(ns=2;s=Tags.PH/PHX_Accelerator_Level_Switch)),\n",
       " Node(StringNodeId(ns=2;s=Tags.PH/PHX_EV_Acc_closed)),\n",
       " Node(StringNodeId(ns=2;s=Tags.PH/PHX_EV_Acc_open)),\n",
       " Node(StringNodeId(ns=2;s=Tags.PH/PHX_EV_Bypass_closed)),\n",
       " Node(StringNodeId(ns=2;s=Tags.PH/PHX_EV_Bypass_open)),\n",
       " Node(StringNodeId(ns=2;s=Tags.PH/PHX_Safety_Circuit_Mixer_Triggered)),\n",
       " Node(StringNodeId(ns=2;s=Tags.PH/PHYMB_DOS_FrequencyRef_cHz_I)),\n",
       " Node(StringNodeId(ns=2;s=Tags.PH/PH_Accelerator_Fill_Level_Current_mm_I)),\n",
       " Node(StringNodeId(ns=2;s=Tags.PH/PH_Accelerator_Pressure_Current_bar_R)),\n",
       " Node(StringNodeId(ns=2;s=Tags.PH/PH_Accelerator_Temperature_Current_C_R)),\n",
       " Node(StringNodeId(ns=2;s=Tags.PH/PH_DOS_Flowrate_Current_mlmin_R)),\n",
       " Node(StringNodeId(ns=2;s=Tags.PH/PH_DOS_Pressure_Current_bar_R)),\n",
       " Node(StringNodeId(ns=2;s=Tags.PH/PH_Mixer_Motor_Capacity_pct_I)),\n",
       " Node(StringNodeId(ns=2;s=Tags.PH/PH_Mixer_Speed_Current_Rpm_I)),\n",
       " Node(StringNodeId(ns=2;s=Tags.PH/PH_Mortar_Pressure_In_Current_bar_R)),\n",
       " Node(StringNodeId(ns=2;s=Tags.PH/PH_Mortar_Temperature_In_C_R)),\n",
       " Node(StringNodeId(ns=2;s=Tags.PH/PH_Mortar_Temperature_Out_C_R))]"
      ]
     },
     "execution_count": 25,
     "metadata": {},
     "output_type": "execute_result"
    }
   ],
   "source": [
    "nodes_v = attributes_node.get_children()\n",
    "nodes_v"
   ]
  },
  {
   "cell_type": "code",
   "execution_count": 29,
   "id": "9702bd51-b6c0-452a-ade7-1804cc9a105c",
   "metadata": {},
   "outputs": [
    {
     "data": {
      "text/plain": [
       "Node(StringNodeId(ns=2;s=Tags.GECO/MPTX_DI_Air_Temperature_C_R))"
      ]
     },
     "execution_count": 29,
     "metadata": {},
     "output_type": "execute_result"
    }
   ],
   "source": [
    "nodes_v[39]"
   ]
  },
  {
   "cell_type": "code",
   "execution_count": 30,
   "id": "7eb8131b-790e-4526-89e1-0a413c9d81c5",
   "metadata": {},
   "outputs": [
    {
     "data": {
      "text/plain": [
       "DataValue(Value:Variant(val:20.694530487060547,type:VariantType.Float), StatusCode:StatusCode(Good), SourceTimestamp:2024-06-20 20:29:45.017730)"
      ]
     },
     "execution_count": 30,
     "metadata": {},
     "output_type": "execute_result"
    }
   ],
   "source": [
    "nodes_v[39].get_data_value()"
   ]
  },
  {
   "cell_type": "code",
   "execution_count": 31,
   "id": "73aa2a77-307a-442c-9c54-1b6f80fc10d2",
   "metadata": {},
   "outputs": [
    {
     "data": {
      "text/plain": [
       "DataValue(Value:Variant(val:20.703125,type:VariantType.Float), StatusCode:StatusCode(Good), SourceTimestamp:2024-06-20 20:29:58.621927)"
      ]
     },
     "execution_count": 31,
     "metadata": {},
     "output_type": "execute_result"
    }
   ],
   "source": [
    "nodes_v[39].get_data_value()"
   ]
  },
  {
   "cell_type": "code",
   "execution_count": null,
   "id": "fd019577-9534-4f8a-b39f-128529c76c1f",
   "metadata": {},
   "outputs": [],
   "source": []
  }
 ],
 "metadata": {
  "kernelspec": {
   "display_name": "Python 3 (ipykernel)",
   "language": "python",
   "name": "python3"
  },
  "language_info": {
   "codemirror_mode": {
    "name": "ipython",
    "version": 3
   },
   "file_extension": ".py",
   "mimetype": "text/x-python",
   "name": "python",
   "nbconvert_exporter": "python",
   "pygments_lexer": "ipython3",
   "version": "3.11.9"
  }
 },
 "nbformat": 4,
 "nbformat_minor": 5
}
