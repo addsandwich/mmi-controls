{
 "cells": [
  {
   "cell_type": "code",
   "execution_count": 75,
   "id": "27371f7f-84e5-4f33-af01-c3fc8091bfcf",
   "metadata": {},
   "outputs": [],
   "source": [
    "import opcua\n",
    "from opcua.client import client\n",
    "import time\n",
    "import json\n",
    "import datetime\n"
   ]
  },
  {
   "cell_type": "code",
   "execution_count": 76,
   "id": "f1f3c253-12a7-4547-ab0d-347635067989",
   "metadata": {},
   "outputs": [],
   "source": [
    "mxcl = client.Client(\"opc.tcp://192.168.1.2:48010\")"
   ]
  },
  {
   "cell_type": "code",
   "execution_count": 77,
   "id": "cd319a0d-72ec-443b-a9da-92a1d097f0a7",
   "metadata": {},
   "outputs": [],
   "source": [
    "mxcl.connect()"
   ]
  },
  {
   "cell_type": "code",
   "execution_count": 78,
   "id": "97b40c6f-4843-4a4c-bbee-54d6a4c414ab",
   "metadata": {},
   "outputs": [],
   "source": [
    "objnode = mxcl.get_objects_node()"
   ]
  },
  {
   "cell_type": "code",
   "execution_count": 79,
   "id": "6283c629-4375-4b85-a816-57247dd66fdc",
   "metadata": {},
   "outputs": [
    {
     "data": {
      "text/plain": [
       "[Node(FourByteNodeId(i=2253)),\n",
       " Node(FourByteNodeId(ns=2;i=1001)),\n",
       " Node(FourByteNodeId(ns=2;i=1002)),\n",
       " Node(FourByteNodeId(ns=2;i=1003))]"
      ]
     },
     "execution_count": 79,
     "metadata": {},
     "output_type": "execute_result"
    }
   ],
   "source": [
    "objnode.get_children()"
   ]
  },
  {
   "cell_type": "code",
   "execution_count": 80,
   "id": "e2a138ab-e17c-4803-9055-72529a25f4cb",
   "metadata": {},
   "outputs": [],
   "source": [
    "values_node = objnode.get_children()[3]"
   ]
  },
  {
   "cell_type": "code",
   "execution_count": 81,
   "id": "777d2e8a-31ec-4ec0-953f-b15f0a54426b",
   "metadata": {},
   "outputs": [],
   "source": [
    "attributes_node = values_node.get_children()[0]"
   ]
  },
  {
   "cell_type": "code",
   "execution_count": 82,
   "id": "3b205736-52b9-4c7a-80f4-01290475dbba",
   "metadata": {},
   "outputs": [
    {
     "data": {
      "text/plain": [
       "[Node(StringNodeId(ns=2;s=Tags.GECO/MPRX_DI_DOS1_Flowrate_50Hz_mlmin_I)),\n",
       " Node(StringNodeId(ns=2;s=Tags.GECO/MPRX_DI_DOS2_Flowrate_50Hz_mlmin_I)),\n",
       " Node(StringNodeId(ns=2;s=Tags.GECO/MPRX_DI_DOS3_Flowrate_50Hz_mlmin_I)),\n",
       " Node(StringNodeId(ns=2;s=Tags.GECO/MPRX_DI_FOG_Flowrate_50Hz_lmin_I)),\n",
       " Node(StringNodeId(ns=2;s=Tags.GECO/MPRX_DI_FOG_Foam_Air_Factor_I)),\n",
       " Node(StringNodeId(ns=2;s=Tags.GECO/MPRX_DI_FOG_Foam_Density_gl_I)),\n",
       " Node(StringNodeId(ns=2;s=Tags.GECO/MPRX_DI_FOG_Foam_Loss_Factor_pct_I)),\n",
       " Node(StringNodeId(ns=2;s=Tags.GECO/MPRX_DI_FOG_Foamingagent_pct_R)),\n",
       " Node(StringNodeId(ns=2;s=Tags.GECO/MPRX_DI_FOG_RESERVED_Foamingagent_cpct_I)),\n",
       " Node(StringNodeId(ns=2;s=Tags.GECO/MPRX_DI_MIX_Speed_Hz_I)),\n",
       " Node(StringNodeId(ns=2;s=Tags.GECO/MPRX_DI_Mixer_After_Water_s_R)),\n",
       " Node(StringNodeId(ns=2;s=Tags.GECO/MPRX_DI_Mixer_Disabled)),\n",
       " Node(StringNodeId(ns=2;s=Tags.GECO/MPRX_DI_Pressure_Limit_bar_R)),\n",
       " Node(StringNodeId(ns=2;s=Tags.GECO/MPRX_DI_Pressure_Reg_Acc_Speed_Hz_s_R)),\n",
       " Node(StringNodeId(ns=2;s=Tags.GECO/MPRX_DI_Pressure_Reg_Active)),\n",
       " Node(StringNodeId(ns=2;s=Tags.GECO/MPRX_DI_Pressure_Reg_Limit_pct_I)),\n",
       " Node(StringNodeId(ns=2;s=Tags.GECO/MPRX_DI_Pressure_Reg_Red_Speed_I)),\n",
       " Node(StringNodeId(ns=2;s=Tags.GECO/MPRX_DI_Pressure_Reg_Start_Freq_Hz_I)),\n",
       " Node(StringNodeId(ns=2;s=Tags.GECO/MPRX_DI_Pump_Auto_Reverse_Run_Active)),\n",
       " Node(StringNodeId(ns=2;s=Tags.GECO/MPRX_DI_Pump_Auto_Reverse_Run_Time_s_I)),\n",
       " Node(StringNodeId(ns=2;s=Tags.GECO/MPRX_DI_Pump_Vib_Mode_I)),\n",
       " Node(StringNodeId(ns=2;s=Tags.GECO/MPRX_DI_Pump_Vib_Pause_Time_s_I)),\n",
       " Node(StringNodeId(ns=2;s=Tags.GECO/MPRX_DI_Pump_Vib_Run_Time_s_I)),\n",
       " Node(StringNodeId(ns=2;s=Tags.GECO/MPRX_DI_Reset_Error)),\n",
       " Node(StringNodeId(ns=2;s=Tags.GECO/MPRX_DI_SLD_Printhead_active)),\n",
       " Node(StringNodeId(ns=2;s=Tags.GECO/MPRX_DI_Water_Before_Mixer_s_R)),\n",
       " Node(StringNodeId(ns=2;s=Tags.GECO/MPRX_DI_Water_Flowrate_Set_lh_I)),\n",
       " Node(StringNodeId(ns=2;s=Tags.GECO/MPRX_DI_Wetprobe_Upper_Cov_Delay_s_I)),\n",
       " Node(StringNodeId(ns=2;s=Tags.GECO/MPRX_DI_Wetprobe_Upper_NCov_Delay_s_I)),\n",
       " Node(StringNodeId(ns=2;s=Tags.GECO/MPRX_EXT_DOS1_Run)),\n",
       " Node(StringNodeId(ns=2;s=Tags.GECO/MPRX_EXT_DOS2_Run)),\n",
       " Node(StringNodeId(ns=2;s=Tags.GECO/MPRX_EXT_DOS3_Run)),\n",
       " Node(StringNodeId(ns=2;s=Tags.GECO/MPRX_EXT_FOG_Run)),\n",
       " Node(StringNodeId(ns=2;s=Tags.GECO/MPRX_EXT_Heartbeat)),\n",
       " Node(StringNodeId(ns=2;s=Tags.GECO/MPRX_EXT_MIX_Run)),\n",
       " Node(StringNodeId(ns=2;s=Tags.GECO/MPRX_EXT_Pump_Run)),\n",
       " Node(StringNodeId(ns=2;s=Tags.GECO/MPRX_EXT_Pump_Run_Reverse)),\n",
       " Node(StringNodeId(ns=2;s=Tags.GECO/MPRX_EXT_Pump_Speed_cHz_I)),\n",
       " Node(StringNodeId(ns=2;s=Tags.GECO/MPTX_DI_Air_Humidity_pct_R)),\n",
       " Node(StringNodeId(ns=2;s=Tags.GECO/MPTX_DI_Air_Temperature_C_R)),\n",
       " Node(StringNodeId(ns=2;s=Tags.GECO/MPTX_DI_Mortar_Temperature_C_R)),\n",
       " Node(StringNodeId(ns=2;s=Tags.GECO/MPTX_DI_Water_Temperature_C_R)),\n",
       " Node(StringNodeId(ns=2;s=Tags.GECO/MPXMB_Mixer_OutputCurrent_dA_I)),\n",
       " Node(StringNodeId(ns=2;s=Tags.GECO/MPXMB_Pump_OutputCurrent_dA_I)),\n",
       " Node(StringNodeId(ns=2;s=Tags.GECO/MPXMB_Pump_OutputPower_W_I)),\n",
       " Node(StringNodeId(ns=2;s=Tags.GECO/MPXMB_Waterpump_OutputFrequency_cHz_I)),\n",
       " Node(StringNodeId(ns=2;s=Tags.GECO/MPYMB_Waterpump_FrequencyRef_cHz_I)),\n",
       " Node(StringNodeId(ns=2;s=Tags.GECO/MPY_Valve_Watertank)),\n",
       " Node(StringNodeId(ns=2;s=Tags.GECO/MP_Auto_On)),\n",
       " Node(StringNodeId(ns=2;s=Tags.GECO/MP_DOS1_Flowrate_current_mlmin_I)),\n",
       " Node(StringNodeId(ns=2;s=Tags.GECO/MP_DOS2_Flowrate_current_mlmin_I)),\n",
       " Node(StringNodeId(ns=2;s=Tags.GECO/MP_DOS3_Flowrate_current_mlmin_I)),\n",
       " Node(StringNodeId(ns=2;s=Tags.GECO/MP_Error_Any_Active)),\n",
       " Node(StringNodeId(ns=2;s=Tags.GECO/MP_Master_On)),\n",
       " Node(StringNodeId(ns=2;s=Tags.GECO/MP_Mixer_Run)),\n",
       " Node(StringNodeId(ns=2;s=Tags.GECO/MP_Pressure_reached)),\n",
       " Node(StringNodeId(ns=2;s=Tags.GECO/MP_Pump_Pressure_Current_bar_R)),\n",
       " Node(StringNodeId(ns=2;s=Tags.GECO/MP_Pump_Run)),\n",
       " Node(StringNodeId(ns=2;s=Tags.GECO/MP_Water_Run)),\n",
       " Node(StringNodeId(ns=2;s=Tags.GECO/MP_Waterflowrate_current_Lh_R)),\n",
       " Node(StringNodeId(ns=2;s=Tags.GECO/MP_Waterprobe_Upper_Cov)),\n",
       " Node(StringNodeId(ns=2;s=Tags.PH/PHRX_DI_DOS_Flowrate_Set_mlmin_I)),\n",
       " Node(StringNodeId(ns=2;s=Tags.PH/PHRX_DI_DOS_Reverse)),\n",
       " Node(StringNodeId(ns=2;s=Tags.PH/PHRX_DI_DOS_Run)),\n",
       " Node(StringNodeId(ns=2;s=Tags.PH/PHRX_DI_Level_Probe_Acc_Analog_Sensor_active)),\n",
       " Node(StringNodeId(ns=2;s=Tags.PH/PHRX_DI_Mixer_Run)),\n",
       " Node(StringNodeId(ns=2;s=Tags.PH/PHRX_DI_Mixer_Speed_Set_rpm_I)),\n",
       " Node(StringNodeId(ns=2;s=Tags.PH/PHRX_DI_Printhead_1K_Active)),\n",
       " Node(StringNodeId(ns=2;s=Tags.PH/PHRX_EXT_Close_EV_Acc)),\n",
       " Node(StringNodeId(ns=2;s=Tags.PH/PHRX_EXT_Close_EV_Bypass)),\n",
       " Node(StringNodeId(ns=2;s=Tags.PH/PHRX_EXT_Error_Robot)),\n",
       " Node(StringNodeId(ns=2;s=Tags.PH/PHRX_EXT_Open_EV_Acc)),\n",
       " Node(StringNodeId(ns=2;s=Tags.PH/PHRX_EXT_Open_EV_Bypass)),\n",
       " Node(StringNodeId(ns=2;s=Tags.PH/PHRX_EXT_Open_MV_Cleaning)),\n",
       " Node(StringNodeId(ns=2;s=Tags.PH/PHRX_EXT_Open_MV_Cleaning_Dos)),\n",
       " Node(StringNodeId(ns=2;s=Tags.PH/PHRX_EXT_Open_MV_Cleaning_throttled)),\n",
       " Node(StringNodeId(ns=2;s=Tags.PH/PHRX_EXT_Open_MV_Pinch_Valve)),\n",
       " Node(StringNodeId(ns=2;s=Tags.PH/PHRX_EXT_Open_MV_Vibrator)),\n",
       " Node(StringNodeId(ns=2;s=Tags.PH/PHXMB_Dos_OutputFrequency_cHz_I)),\n",
       " Node(StringNodeId(ns=2;s=Tags.PH/PHXMB_Dos_Status_Fault)),\n",
       " Node(StringNodeId(ns=2;s=Tags.PH/PHXMB_Dos_Status_Run)),\n",
       " Node(StringNodeId(ns=2;s=Tags.PH/PHXMB_Mixer_OutputCurrent_dA_I)),\n",
       " Node(StringNodeId(ns=2;s=Tags.PH/PHXMB_Mixer_OutputPower_W_I)),\n",
       " Node(StringNodeId(ns=2;s=Tags.PH/PHXMB_Mixer_Status_Fault)),\n",
       " Node(StringNodeId(ns=2;s=Tags.PH/PHXMB_Mixer_Status_Run)),\n",
       " Node(StringNodeId(ns=2;s=Tags.PH/PHX_Accelerator_Level_Switch)),\n",
       " Node(StringNodeId(ns=2;s=Tags.PH/PHX_EV_Acc_closed)),\n",
       " Node(StringNodeId(ns=2;s=Tags.PH/PHX_EV_Acc_open)),\n",
       " Node(StringNodeId(ns=2;s=Tags.PH/PHX_EV_Bypass_closed)),\n",
       " Node(StringNodeId(ns=2;s=Tags.PH/PHX_EV_Bypass_open)),\n",
       " Node(StringNodeId(ns=2;s=Tags.PH/PHX_Safety_Circuit_Mixer_Triggered)),\n",
       " Node(StringNodeId(ns=2;s=Tags.PH/PHYMB_DOS_FrequencyRef_cHz_I)),\n",
       " Node(StringNodeId(ns=2;s=Tags.PH/PH_Accelerator_Fill_Level_Current_mm_I)),\n",
       " Node(StringNodeId(ns=2;s=Tags.PH/PH_Accelerator_Pressure_Current_bar_R)),\n",
       " Node(StringNodeId(ns=2;s=Tags.PH/PH_Accelerator_Temperature_Current_C_R)),\n",
       " Node(StringNodeId(ns=2;s=Tags.PH/PH_DOS_Flowrate_Current_mlmin_R)),\n",
       " Node(StringNodeId(ns=2;s=Tags.PH/PH_DOS_Pressure_Current_bar_R)),\n",
       " Node(StringNodeId(ns=2;s=Tags.PH/PH_Mixer_Motor_Capacity_pct_I)),\n",
       " Node(StringNodeId(ns=2;s=Tags.PH/PH_Mixer_Speed_Current_Rpm_I)),\n",
       " Node(StringNodeId(ns=2;s=Tags.PH/PH_Mortar_Pressure_In_Current_bar_R)),\n",
       " Node(StringNodeId(ns=2;s=Tags.PH/PH_Mortar_Temperature_In_C_R)),\n",
       " Node(StringNodeId(ns=2;s=Tags.PH/PH_Mortar_Temperature_Out_C_R))]"
      ]
     },
     "execution_count": 82,
     "metadata": {},
     "output_type": "execute_result"
    }
   ],
   "source": [
    "nodes_v = attributes_node.get_children()\n",
    "nodes_v"
   ]
  },
  {
   "cell_type": "code",
   "execution_count": 9,
   "id": "9702bd51-b6c0-452a-ade7-1804cc9a105c",
   "metadata": {},
   "outputs": [
    {
     "data": {
      "text/plain": [
       "Node(StringNodeId(ns=2;s=Tags.GECO/MPTX_DI_Air_Temperature_C_R))"
      ]
     },
     "execution_count": 9,
     "metadata": {},
     "output_type": "execute_result"
    }
   ],
   "source": [
    "nodes_v[39]"
   ]
  },
  {
   "cell_type": "code",
   "execution_count": 10,
   "id": "7eb8131b-790e-4526-89e1-0a413c9d81c5",
   "metadata": {},
   "outputs": [
    {
     "data": {
      "text/plain": [
       "DataValue(Value:Variant(val:21.029685974121094,type:VariantType.Float), StatusCode:StatusCode(Good), SourceTimestamp:2024-06-21 16:03:05.028951)"
      ]
     },
     "execution_count": 10,
     "metadata": {},
     "output_type": "execute_result"
    }
   ],
   "source": [
    "nodes_v[39].get_data_value()"
   ]
  },
  {
   "cell_type": "code",
   "execution_count": 11,
   "id": "73aa2a77-307a-442c-9c54-1b6f80fc10d2",
   "metadata": {},
   "outputs": [
    {
     "data": {
      "text/plain": [
       "<VariantType.Float: 10>"
      ]
     },
     "execution_count": 11,
     "metadata": {},
     "output_type": "execute_result"
    }
   ],
   "source": [
    "nodes_v[39].get_data_value().Value.VariantType"
   ]
  },
  {
   "cell_type": "code",
   "execution_count": 12,
   "id": "fd019577-9534-4f8a-b39f-128529c76c1f",
   "metadata": {},
   "outputs": [
    {
     "data": {
      "text/plain": [
       "'21.06.2024 16:03:05,050835'"
      ]
     },
     "execution_count": 12,
     "metadata": {},
     "output_type": "execute_result"
    }
   ],
   "source": [
    "nodes_v[39].get_data_value().SourceTimestamp.strftime('%d.%m.%Y %H:%M:%S,%f')"
   ]
  },
  {
   "cell_type": "code",
   "execution_count": 13,
   "id": "60b2df5f-ebcc-4e71-8cb7-c2f7671a6e8a",
   "metadata": {},
   "outputs": [
    {
     "data": {
      "text/plain": [
       "'GECO/MPTX_DI_Air_Temperature_C_R'"
      ]
     },
     "execution_count": 13,
     "metadata": {},
     "output_type": "execute_result"
    }
   ],
   "source": [
    "nodes_v[39].get_display_name().Text"
   ]
  },
  {
   "cell_type": "code",
   "execution_count": 14,
   "id": "3369c65e-022f-4124-beaf-19382910c750",
   "metadata": {},
   "outputs": [
    {
     "name": "stdout",
     "output_type": "stream",
     "text": [
      "idx=0, name=GECO/MPRX_DI_DOS1_Flowrate_50Hz_mlmin_I\n",
      "idx=1, name=GECO/MPRX_DI_DOS2_Flowrate_50Hz_mlmin_I\n",
      "idx=2, name=GECO/MPRX_DI_DOS3_Flowrate_50Hz_mlmin_I\n",
      "idx=3, name=GECO/MPRX_DI_FOG_Flowrate_50Hz_lmin_I\n",
      "idx=4, name=GECO/MPRX_DI_FOG_Foam_Air_Factor_I\n",
      "idx=5, name=GECO/MPRX_DI_FOG_Foam_Density_gl_I\n",
      "idx=6, name=GECO/MPRX_DI_FOG_Foam_Loss_Factor_pct_I\n",
      "idx=7, name=GECO/MPRX_DI_FOG_Foamingagent_pct_R\n",
      "idx=8, name=GECO/MPRX_DI_FOG_RESERVED_Foamingagent_cpct_I\n",
      "idx=9, name=GECO/MPRX_DI_MIX_Speed_Hz_I\n",
      "idx=10, name=GECO/MPRX_DI_Mixer_After_Water_s_R\n",
      "idx=11, name=GECO/MPRX_DI_Mixer_Disabled\n",
      "idx=12, name=GECO/MPRX_DI_Pressure_Limit_bar_R\n",
      "idx=13, name=GECO/MPRX_DI_Pressure_Reg_Acc_Speed_Hz_s_R\n",
      "idx=14, name=GECO/MPRX_DI_Pressure_Reg_Active\n",
      "idx=15, name=GECO/MPRX_DI_Pressure_Reg_Limit_pct_I\n",
      "idx=16, name=GECO/MPRX_DI_Pressure_Reg_Red_Speed_I\n",
      "idx=17, name=GECO/MPRX_DI_Pressure_Reg_Start_Freq_Hz_I\n",
      "idx=18, name=GECO/MPRX_DI_Pump_Auto_Reverse_Run_Active\n",
      "idx=19, name=GECO/MPRX_DI_Pump_Auto_Reverse_Run_Time_s_I\n",
      "idx=20, name=GECO/MPRX_DI_Pump_Vib_Mode_I\n",
      "idx=21, name=GECO/MPRX_DI_Pump_Vib_Pause_Time_s_I\n",
      "idx=22, name=GECO/MPRX_DI_Pump_Vib_Run_Time_s_I\n",
      "idx=23, name=GECO/MPRX_DI_Reset_Error\n",
      "idx=24, name=GECO/MPRX_DI_SLD_Printhead_active\n",
      "idx=25, name=GECO/MPRX_DI_Water_Before_Mixer_s_R\n",
      "idx=26, name=GECO/MPRX_DI_Water_Flowrate_Set_lh_I\n",
      "idx=27, name=GECO/MPRX_DI_Wetprobe_Upper_Cov_Delay_s_I\n",
      "idx=28, name=GECO/MPRX_DI_Wetprobe_Upper_NCov_Delay_s_I\n",
      "idx=29, name=GECO/MPRX_EXT_DOS1_Run\n",
      "idx=30, name=GECO/MPRX_EXT_DOS2_Run\n",
      "idx=31, name=GECO/MPRX_EXT_DOS3_Run\n",
      "idx=32, name=GECO/MPRX_EXT_FOG_Run\n",
      "idx=33, name=GECO/MPRX_EXT_Heartbeat\n",
      "idx=34, name=GECO/MPRX_EXT_MIX_Run\n",
      "idx=35, name=GECO/MPRX_EXT_Pump_Run\n",
      "idx=36, name=GECO/MPRX_EXT_Pump_Run_Reverse\n",
      "idx=37, name=GECO/MPRX_EXT_Pump_Speed_cHz_I\n",
      "idx=38, name=GECO/MPTX_DI_Air_Humidity_pct_R\n",
      "idx=39, name=GECO/MPTX_DI_Air_Temperature_C_R\n",
      "idx=40, name=GECO/MPTX_DI_Mortar_Temperature_C_R\n",
      "idx=41, name=GECO/MPTX_DI_Water_Temperature_C_R\n",
      "idx=42, name=GECO/MPXMB_Mixer_OutputCurrent_dA_I\n",
      "idx=43, name=GECO/MPXMB_Pump_OutputCurrent_dA_I\n",
      "idx=44, name=GECO/MPXMB_Pump_OutputPower_W_I\n",
      "idx=45, name=GECO/MPXMB_Waterpump_OutputFrequency_cHz_I\n",
      "idx=46, name=GECO/MPYMB_Waterpump_FrequencyRef_cHz_I\n",
      "idx=47, name=GECO/MPY_Valve_Watertank\n",
      "idx=48, name=GECO/MP_Auto_On\n",
      "idx=49, name=GECO/MP_DOS1_Flowrate_current_mlmin_I\n",
      "idx=50, name=GECO/MP_DOS2_Flowrate_current_mlmin_I\n",
      "idx=51, name=GECO/MP_DOS3_Flowrate_current_mlmin_I\n",
      "idx=52, name=GECO/MP_Error_Any_Active\n",
      "idx=53, name=GECO/MP_Master_On\n",
      "idx=54, name=GECO/MP_Mixer_Run\n",
      "idx=55, name=GECO/MP_Pressure_reached\n",
      "idx=56, name=GECO/MP_Pump_Pressure_Current_bar_R\n",
      "idx=57, name=GECO/MP_Pump_Run\n",
      "idx=58, name=GECO/MP_Water_Run\n",
      "idx=59, name=GECO/MP_Waterflowrate_current_Lh_R\n",
      "idx=60, name=GECO/MP_Waterprobe_Upper_Cov\n",
      "idx=61, name=PH/PHRX_DI_DOS_Flowrate_Set_mlmin_I\n",
      "idx=62, name=PH/PHRX_DI_DOS_Reverse\n",
      "idx=63, name=PH/PHRX_DI_DOS_Run\n",
      "idx=64, name=PH/PHRX_DI_Level_Probe_Acc_Analog_Sensor_active\n",
      "idx=65, name=PH/PHRX_DI_Mixer_Run\n",
      "idx=66, name=PH/PHRX_DI_Mixer_Speed_Set_rpm_I\n",
      "idx=67, name=PH/PHRX_DI_Printhead_1K_Active\n",
      "idx=68, name=PH/PHRX_EXT_Close_EV_Acc\n",
      "idx=69, name=PH/PHRX_EXT_Close_EV_Bypass\n",
      "idx=70, name=PH/PHRX_EXT_Error_Robot\n",
      "idx=71, name=PH/PHRX_EXT_Open_EV_Acc\n",
      "idx=72, name=PH/PHRX_EXT_Open_EV_Bypass\n",
      "idx=73, name=PH/PHRX_EXT_Open_MV_Cleaning\n",
      "idx=74, name=PH/PHRX_EXT_Open_MV_Cleaning_Dos\n",
      "idx=75, name=PH/PHRX_EXT_Open_MV_Cleaning_throttled\n",
      "idx=76, name=PH/PHRX_EXT_Open_MV_Pinch_Valve\n",
      "idx=77, name=PH/PHRX_EXT_Open_MV_Vibrator\n",
      "idx=78, name=PH/PHXMB_Dos_OutputFrequency_cHz_I\n",
      "idx=79, name=PH/PHXMB_Dos_Status_Fault\n",
      "idx=80, name=PH/PHXMB_Dos_Status_Run\n",
      "idx=81, name=PH/PHXMB_Mixer_OutputCurrent_dA_I\n",
      "idx=82, name=PH/PHXMB_Mixer_OutputPower_W_I\n",
      "idx=83, name=PH/PHXMB_Mixer_Status_Fault\n",
      "idx=84, name=PH/PHXMB_Mixer_Status_Run\n",
      "idx=85, name=PH/PHX_Accelerator_Level_Switch\n",
      "idx=86, name=PH/PHX_EV_Acc_closed\n",
      "idx=87, name=PH/PHX_EV_Acc_open\n",
      "idx=88, name=PH/PHX_EV_Bypass_closed\n",
      "idx=89, name=PH/PHX_EV_Bypass_open\n",
      "idx=90, name=PH/PHX_Safety_Circuit_Mixer_Triggered\n",
      "idx=91, name=PH/PHYMB_DOS_FrequencyRef_cHz_I\n",
      "idx=92, name=PH/PH_Accelerator_Fill_Level_Current_mm_I\n",
      "idx=93, name=PH/PH_Accelerator_Pressure_Current_bar_R\n",
      "idx=94, name=PH/PH_Accelerator_Temperature_Current_C_R\n",
      "idx=95, name=PH/PH_DOS_Flowrate_Current_mlmin_R\n",
      "idx=96, name=PH/PH_DOS_Pressure_Current_bar_R\n",
      "idx=97, name=PH/PH_Mixer_Motor_Capacity_pct_I\n",
      "idx=98, name=PH/PH_Mixer_Speed_Current_Rpm_I\n",
      "idx=99, name=PH/PH_Mortar_Pressure_In_Current_bar_R\n",
      "idx=100, name=PH/PH_Mortar_Temperature_In_C_R\n",
      "idx=101, name=PH/PH_Mortar_Temperature_Out_C_R\n"
     ]
    }
   ],
   "source": [
    "i = 0\n",
    "for n in nodes_v:\n",
    "    print(f\"idx={i}, name={n.get_display_name().Text}\")\n",
    "    i+=1"
   ]
  },
  {
   "cell_type": "code",
   "execution_count": 15,
   "id": "e354e229-1248-40c3-837e-a06bd01ef2b9",
   "metadata": {},
   "outputs": [],
   "source": [
    "timestamp=[]\n",
    "\n",
    "def appendNodeDict(dict, node, idx):\n",
    "    node_name = \"\"\n",
    "    node_value = \"\"\n",
    "    node_value_type = \"\"\n",
    "    node_timestamp = \"\"\n",
    "    node_error = 4\n",
    "    try:\n",
    "        node_name = node.get_display_name().Text\n",
    "        node_error = 3\n",
    "        node_timestamp = node.get_data_value().SourceTimestamp.strftime('%d.%m.%Y %H:%M:%S,%f')\n",
    "        node_error = 2\n",
    "        node_value_type = node.get_data_value().Value.VariantType\n",
    "        node_error = 1\n",
    "        node_value = node.get_data_value().Value.Value\n",
    "        node_error = 0\n",
    "        node = {\"name\":node_name, \"value\":node_value, \n",
    "                \"type\":str(node_value_type), \"timestamp\":node_timestamp, \"error\":node_error}\n",
    "        dict[idx] = node\n",
    "    except:\n",
    "        node = {\"name\":node_name, \"value\":node_value, \n",
    "        \"type\":node_value_type, \"timestamp\":node_timestamp, \"error\":node_error}\n",
    "        dict[idx] = node\n",
    "        \n",
    "        "
   ]
  },
  {
   "cell_type": "code",
   "execution_count": null,
   "id": "1196e9e7-2f12-49ac-80a9-b6e4310b75e3",
   "metadata": {},
   "outputs": [],
   "source": [
    "while True:\n",
    "    temp_dict = {}\n",
    "    i = 0\n",
    "    for n in nodes_v:\n",
    "        appendNodeDict(temp_dict, n, i)\n",
    "        i+=1\n",
    "    \n",
    "    \n",
    "    dt = datetime.datetime.now()\n",
    "    formatted_date = dt.strftime(\"%Y-%m-%d_%H-%M-%S\")\n",
    "    with open(f\"./data/mixer_capture_{formatted_date}.json\", \"w\") as fp:\n",
    "        json.dump(temp_dict, fp)\n",
    "    time.sleep(30)"
   ]
  },
  {
   "cell_type": "code",
   "execution_count": null,
   "id": "7890efa2-d754-4a83-9933-7485042eb76d",
   "metadata": {},
   "outputs": [],
   "source": [
    "temp_dict"
   ]
  },
  {
   "cell_type": "code",
   "execution_count": 83,
   "id": "b0afd625-fea4-4f1d-89fc-4b5f9fb137df",
   "metadata": {},
   "outputs": [],
   "source": [
    "node_heartbeat = nodes_v[33]\n",
    "heartbeat_variant = node_heartbeat.get_data_value()\n",
    "heartbeat_variant.Value.Value = True"
   ]
  },
  {
   "cell_type": "code",
   "execution_count": 88,
   "id": "de279b3d-a18e-4c70-b6ed-5e3bf16e1d1f",
   "metadata": {},
   "outputs": [
    {
     "data": {
      "text/plain": [
       "<VariantType.Boolean: 1>"
      ]
     },
     "execution_count": 88,
     "metadata": {},
     "output_type": "execute_result"
    }
   ],
   "source": [
    "heartbeat_variant.Value.VariantType"
   ]
  },
  {
   "cell_type": "code",
   "execution_count": 100,
   "id": "445a6b6c-2065-438c-bd28-bd0f1c5b266b",
   "metadata": {},
   "outputs": [
    {
     "data": {
      "text/plain": [
       "False"
      ]
     },
     "execution_count": 100,
     "metadata": {},
     "output_type": "execute_result"
    }
   ],
   "source": [
    "node_heartbeat.get_value()"
   ]
  },
  {
   "cell_type": "code",
   "execution_count": 103,
   "id": "0c1ede2d-95f0-4992-8860-058b103d1529",
   "metadata": {},
   "outputs": [
    {
     "ename": "BadWriteNotSupported",
     "evalue": "\"The server does not support writing the combination of value, status and timestamps provided.\"(BadWriteNotSupported)",
     "output_type": "error",
     "traceback": [
      "\u001b[1;31m---------------------------------------------------------------------------\u001b[0m",
      "\u001b[1;31mBadWriteNotSupported\u001b[0m                      Traceback (most recent call last)",
      "Cell \u001b[1;32mIn[103], line 1\u001b[0m\n\u001b[1;32m----> 1\u001b[0m node_heartbeat\u001b[38;5;241m.\u001b[39mset_value(\u001b[38;5;28;01mTrue\u001b[39;00m)\n",
      "File \u001b[1;32m~\\AppData\\Local\\anaconda3\\envs\\concrete\\Lib\\site-packages\\opcua\\common\\node.py:217\u001b[0m, in \u001b[0;36mNode.set_value\u001b[1;34m(self, value, varianttype)\u001b[0m\n\u001b[0;32m    215\u001b[0m     datavalue \u001b[38;5;241m=\u001b[39m ua\u001b[38;5;241m.\u001b[39mDataValue(ua\u001b[38;5;241m.\u001b[39mVariant(value, varianttype))\n\u001b[0;32m    216\u001b[0m     datavalue\u001b[38;5;241m.\u001b[39mSourceTimestamp \u001b[38;5;241m=\u001b[39m datetime\u001b[38;5;241m.\u001b[39mutcnow()\n\u001b[1;32m--> 217\u001b[0m \u001b[38;5;28mself\u001b[39m\u001b[38;5;241m.\u001b[39mset_attribute(ua\u001b[38;5;241m.\u001b[39mAttributeIds\u001b[38;5;241m.\u001b[39mValue, datavalue)\n",
      "File \u001b[1;32m~\\AppData\\Local\\anaconda3\\envs\\concrete\\Lib\\site-packages\\opcua\\common\\node.py:263\u001b[0m, in \u001b[0;36mNode.set_attribute\u001b[1;34m(self, attributeid, datavalue)\u001b[0m\n\u001b[0;32m    261\u001b[0m params\u001b[38;5;241m.\u001b[39mNodesToWrite \u001b[38;5;241m=\u001b[39m [attr]\n\u001b[0;32m    262\u001b[0m result \u001b[38;5;241m=\u001b[39m \u001b[38;5;28mself\u001b[39m\u001b[38;5;241m.\u001b[39mserver\u001b[38;5;241m.\u001b[39mwrite(params)\n\u001b[1;32m--> 263\u001b[0m result[\u001b[38;5;241m0\u001b[39m]\u001b[38;5;241m.\u001b[39mcheck()\n",
      "File \u001b[1;32m~\\AppData\\Local\\anaconda3\\envs\\concrete\\Lib\\site-packages\\opcua\\ua\\uatypes.py:218\u001b[0m, in \u001b[0;36mStatusCode.check\u001b[1;34m(self)\u001b[0m\n\u001b[0;32m    212\u001b[0m \u001b[38;5;250m\u001b[39m\u001b[38;5;124;03m\"\"\"\u001b[39;00m\n\u001b[0;32m    213\u001b[0m \u001b[38;5;124;03mRaises an exception if the status code is anything else than 0 (good).\u001b[39;00m\n\u001b[0;32m    214\u001b[0m \n\u001b[0;32m    215\u001b[0m \u001b[38;5;124;03mUse the is_good() method if you do not want an exception.\u001b[39;00m\n\u001b[0;32m    216\u001b[0m \u001b[38;5;124;03m\"\"\"\u001b[39;00m\n\u001b[0;32m    217\u001b[0m \u001b[38;5;28;01mif\u001b[39;00m \u001b[38;5;129;01mnot\u001b[39;00m \u001b[38;5;28mself\u001b[39m\u001b[38;5;241m.\u001b[39mis_good():\n\u001b[1;32m--> 218\u001b[0m     \u001b[38;5;28;01mraise\u001b[39;00m UaStatusCodeError(\u001b[38;5;28mself\u001b[39m\u001b[38;5;241m.\u001b[39mvalue)\n",
      "\u001b[1;31mBadWriteNotSupported\u001b[0m: \"The server does not support writing the combination of value, status and timestamps provided.\"(BadWriteNotSupported)"
     ]
    }
   ],
   "source": [
    "node_heartbeat.set_value(True)"
   ]
  },
  {
   "cell_type": "code",
   "execution_count": 55,
   "id": "90215140-cd1f-4faf-b74d-c7a5021466cd",
   "metadata": {},
   "outputs": [
    {
     "data": {
      "text/plain": [
       "<AttributeIds.Value: 13>"
      ]
     },
     "execution_count": 55,
     "metadata": {},
     "output_type": "execute_result"
    }
   ],
   "source": [
    "opcua.ua.AttributeIds.Value"
   ]
  },
  {
   "cell_type": "code",
   "execution_count": 110,
   "id": "c9cc9f21-dc28-4438-aac5-1a2a6197aff0",
   "metadata": {},
   "outputs": [],
   "source": [
    "datavalue = opcua.ua.DataValue(opcua.ua.Variant(True, heartbeat_variant.Value.VariantType), status=None)"
   ]
  },
  {
   "cell_type": "code",
   "execution_count": 113,
   "id": "3ae51fc2-0be9-4a37-9780-f33ecf7cbd64",
   "metadata": {},
   "outputs": [
    {
     "data": {
      "text/plain": [
       "DataValue(Value:Variant(val:True,type:VariantType.Boolean), StatusCode:StatusCode(Good))"
      ]
     },
     "execution_count": 113,
     "metadata": {},
     "output_type": "execute_result"
    }
   ],
   "source": [
    "datavalue.status = None\n",
    "datavalue"
   ]
  },
  {
   "cell_type": "code",
   "execution_count": 117,
   "id": "f9a0cf42-b1e9-441c-aa18-00b2e72d62fe",
   "metadata": {},
   "outputs": [
    {
     "ename": "TimeoutError",
     "evalue": "",
     "output_type": "error",
     "traceback": [
      "\u001b[1;31m---------------------------------------------------------------------------\u001b[0m",
      "\u001b[1;31mTimeoutError\u001b[0m                              Traceback (most recent call last)",
      "Cell \u001b[1;32mIn[117], line 2\u001b[0m\n\u001b[0;32m      1\u001b[0m \u001b[38;5;28;01mwhile\u001b[39;00m \u001b[38;5;28;01mTrue\u001b[39;00m:\n\u001b[1;32m----> 2\u001b[0m     node_heartbeat\u001b[38;5;241m.\u001b[39mset_attribute(\u001b[38;5;241m13\u001b[39m, datavalue)\n\u001b[0;32m      3\u001b[0m     time\u001b[38;5;241m.\u001b[39msleep(\u001b[38;5;241m.9\u001b[39m)\n",
      "File \u001b[1;32m~\\AppData\\Local\\anaconda3\\envs\\concrete\\Lib\\site-packages\\opcua\\common\\node.py:262\u001b[0m, in \u001b[0;36mNode.set_attribute\u001b[1;34m(self, attributeid, datavalue)\u001b[0m\n\u001b[0;32m    260\u001b[0m params \u001b[38;5;241m=\u001b[39m ua\u001b[38;5;241m.\u001b[39mWriteParameters()\n\u001b[0;32m    261\u001b[0m params\u001b[38;5;241m.\u001b[39mNodesToWrite \u001b[38;5;241m=\u001b[39m [attr]\n\u001b[1;32m--> 262\u001b[0m result \u001b[38;5;241m=\u001b[39m \u001b[38;5;28mself\u001b[39m\u001b[38;5;241m.\u001b[39mserver\u001b[38;5;241m.\u001b[39mwrite(params)\n\u001b[0;32m    263\u001b[0m result[\u001b[38;5;241m0\u001b[39m]\u001b[38;5;241m.\u001b[39mcheck()\n",
      "File \u001b[1;32m~\\AppData\\Local\\anaconda3\\envs\\concrete\\Lib\\site-packages\\opcua\\client\\ua_client.py:367\u001b[0m, in \u001b[0;36mUaClient.write\u001b[1;34m(self, params)\u001b[0m\n\u001b[0;32m    365\u001b[0m request \u001b[38;5;241m=\u001b[39m ua\u001b[38;5;241m.\u001b[39mWriteRequest()\n\u001b[0;32m    366\u001b[0m request\u001b[38;5;241m.\u001b[39mParameters \u001b[38;5;241m=\u001b[39m params\n\u001b[1;32m--> 367\u001b[0m data \u001b[38;5;241m=\u001b[39m \u001b[38;5;28mself\u001b[39m\u001b[38;5;241m.\u001b[39m_uasocket\u001b[38;5;241m.\u001b[39msend_request(request)\n\u001b[0;32m    368\u001b[0m response \u001b[38;5;241m=\u001b[39m struct_from_binary(ua\u001b[38;5;241m.\u001b[39mWriteResponse, data)\n\u001b[0;32m    369\u001b[0m \u001b[38;5;28mself\u001b[39m\u001b[38;5;241m.\u001b[39mlogger\u001b[38;5;241m.\u001b[39mdebug(response)\n",
      "File \u001b[1;32m~\\AppData\\Local\\anaconda3\\envs\\concrete\\Lib\\site-packages\\opcua\\client\\ua_client.py:83\u001b[0m, in \u001b[0;36mUASocketClient.send_request\u001b[1;34m(self, request, callback, timeout, message_type)\u001b[0m\n\u001b[0;32m     81\u001b[0m future \u001b[38;5;241m=\u001b[39m \u001b[38;5;28mself\u001b[39m\u001b[38;5;241m.\u001b[39m_send_request(request, callback, timeout, message_type)\n\u001b[0;32m     82\u001b[0m \u001b[38;5;28;01mif\u001b[39;00m \u001b[38;5;129;01mnot\u001b[39;00m callback:\n\u001b[1;32m---> 83\u001b[0m     data \u001b[38;5;241m=\u001b[39m future\u001b[38;5;241m.\u001b[39mresult(\u001b[38;5;28mself\u001b[39m\u001b[38;5;241m.\u001b[39mtimeout)\n\u001b[0;32m     84\u001b[0m     \u001b[38;5;28mself\u001b[39m\u001b[38;5;241m.\u001b[39mcheck_answer(data, \u001b[38;5;124m\"\u001b[39m\u001b[38;5;124m in response to \u001b[39m\u001b[38;5;124m\"\u001b[39m \u001b[38;5;241m+\u001b[39m request\u001b[38;5;241m.\u001b[39m\u001b[38;5;18m__class__\u001b[39m\u001b[38;5;241m.\u001b[39m\u001b[38;5;18m__name__\u001b[39m)\n\u001b[0;32m     85\u001b[0m     \u001b[38;5;28;01mreturn\u001b[39;00m data\n",
      "File \u001b[1;32m~\\AppData\\Local\\anaconda3\\envs\\concrete\\Lib\\concurrent\\futures\\_base.py:458\u001b[0m, in \u001b[0;36mFuture.result\u001b[1;34m(self, timeout)\u001b[0m\n\u001b[0;32m    456\u001b[0m             \u001b[38;5;28;01mreturn\u001b[39;00m \u001b[38;5;28mself\u001b[39m\u001b[38;5;241m.\u001b[39m__get_result()\n\u001b[0;32m    457\u001b[0m         \u001b[38;5;28;01melse\u001b[39;00m:\n\u001b[1;32m--> 458\u001b[0m             \u001b[38;5;28;01mraise\u001b[39;00m \u001b[38;5;167;01mTimeoutError\u001b[39;00m()\n\u001b[0;32m    459\u001b[0m \u001b[38;5;28;01mfinally\u001b[39;00m:\n\u001b[0;32m    460\u001b[0m     \u001b[38;5;66;03m# Break a reference cycle with the exception in self._exception\u001b[39;00m\n\u001b[0;32m    461\u001b[0m     \u001b[38;5;28mself\u001b[39m \u001b[38;5;241m=\u001b[39m \u001b[38;5;28;01mNone\u001b[39;00m\n",
      "\u001b[1;31mTimeoutError\u001b[0m: "
     ]
    }
   ],
   "source": [
    "while True:\n",
    "    node_heartbeat.set_attribute(13, datavalue)\n",
    "    time.sleep(.9)"
   ]
  },
  {
   "cell_type": "code",
   "execution_count": 114,
   "id": "3c4da39b-0f90-4943-8495-9bdd678f1bb8",
   "metadata": {},
   "outputs": [
    {
     "data": {
      "text/plain": [
       "<VariantType.Boolean: 1>"
      ]
     },
     "execution_count": 114,
     "metadata": {},
     "output_type": "execute_result"
    }
   ],
   "source": [
    "heartbeat_variant.Value.VariantType"
   ]
  },
  {
   "cell_type": "code",
   "execution_count": null,
   "id": "67e43dc3-6403-42c0-abfa-7e0e61cda217",
   "metadata": {},
   "outputs": [],
   "source": []
  }
 ],
 "metadata": {
  "kernelspec": {
   "display_name": "Python 3 (ipykernel)",
   "language": "python",
   "name": "python3"
  },
  "language_info": {
   "codemirror_mode": {
    "name": "ipython",
    "version": 3
   },
   "file_extension": ".py",
   "mimetype": "text/x-python",
   "name": "python",
   "nbconvert_exporter": "python",
   "pygments_lexer": "ipython3",
   "version": "3.11.9"
  }
 },
 "nbformat": 4,
 "nbformat_minor": 5
}
