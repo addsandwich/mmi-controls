{
 "cells": [
  {
   "cell_type": "code",
   "execution_count": 2,
   "id": "8ecfbf70-9545-4d30-bbd2-c40aa5e216bf",
   "metadata": {},
   "outputs": [],
   "source": [
    "# Enable widget mode for interactive plotting in Jupyter Lab\n",
    "%matplotlib widget\n",
    "import numpy as np\n",
    "import pandas as pd\n",
    "import matplotlib.pyplot as plt\n",
    "from scipy.signal import butter, filtfilt, spectrogram\n",
    "from scipy.signal.windows import hamming\n",
    "from datetime import datetime, timedelta\n",
    "import time"
   ]
  },
  {
   "cell_type": "code",
   "execution_count": 3,
   "id": "6602379f-c747-420f-a5f6-34e9e7dd5f04",
   "metadata": {},
   "outputs": [],
   "source": [
    "# Load CSV file (substitute with your actual file path)\n",
    "data = pd.read_csv('Experiment-5-Pump.csv')\n",
    "threshold = -20\n",
    "\n",
    "# Parse the datetime column with microsecond precision\n",
    "time_utc = pd.to_datetime(data.iloc[:, 1], format='%Y-%m-%d %H:%M:%S.%f')\n",
    "signal = data.iloc[:, 42].values  # Assuming the signal is in column 43\n",
    "\n",
    "# Convert datetime to seconds relative to the first timestamp\n",
    "time_seconds = (time_utc - time_utc.iloc[0]).dt.total_seconds()\n",
    "new_time_seconds = np.arange(time_seconds.min(), time_seconds.max(), 2)  # Regular 2-second intervals\n",
    "interpolated_signal = np.interp(new_time_seconds, time_seconds, signal)\n",
    "\n",
    "# High-pass filter with cutoff frequency of 0.01 Hz\n",
    "cutoff_frequency = 0.002\n",
    "Fs = 1 / 2  # Sampling frequency (1 sample every 2 seconds)\n",
    "b, a = butter(4, cutoff_frequency / (Fs / 2), 'high')\n",
    "filtered_signal = filtfilt(b, a, interpolated_signal)\n",
    "\n",
    "# Apply STFT to the filtered signal\n",
    "f, t, Sxx = spectrogram(filtered_signal, fs=Fs, window=hamming(128), nperseg=128, noverlap=120)\n",
    "p_db = 10 * np.log10(np.abs(Sxx))\n",
    "\n",
    "# Define frequency range of interest\n",
    "freq_range = (f >= 0.05) & (f <= 0.25)\n",
    "avg_power = p_db[freq_range, :].mean(axis=0)\n",
    "\n",
    "# Create UTC time for plotting\n",
    "new_time_utc = [time_utc.iloc[0] + timedelta(seconds=int(s)) for s in new_time_seconds]\n",
    "t_utc = [new_time_utc[round(ti * Fs)] for ti in t]"
   ]
  },
  {
   "cell_type": "code",
   "execution_count": 4,
   "id": "16adbe30-3c22-4fa3-8f07-40eae64e85f3",
   "metadata": {},
   "outputs": [
    {
     "name": "stderr",
     "output_type": "stream",
     "text": [
      "C:\\Users\\cjwattz\\AppData\\Local\\Temp\\1\\ipykernel_7816\\3708338491.py:52: UserWarning: Attempting to set identical low and high xlims makes transformation singular; automatically expanding.\n",
      "  img.set_extent([t_utc[0], t_utc[i-1], f[0], f[-1]])\n"
     ]
    },
    {
     "ename": "KeyboardInterrupt",
     "evalue": "",
     "output_type": "error",
     "traceback": [
      "\u001b[1;31m---------------------------------------------------------------------------\u001b[0m",
      "\u001b[1;31mKeyboardInterrupt\u001b[0m                         Traceback (most recent call last)",
      "Cell \u001b[1;32mIn[4], line 59\u001b[0m\n\u001b[0;32m     57\u001b[0m \u001b[38;5;28;01mfor\u001b[39;00m i \u001b[38;5;129;01min\u001b[39;00m \u001b[38;5;28mrange\u001b[39m(\u001b[38;5;241m1\u001b[39m, \u001b[38;5;28mlen\u001b[39m(new_time_utc)):\n\u001b[0;32m     58\u001b[0m     update_plot(i)\n\u001b[1;32m---> 59\u001b[0m     time\u001b[38;5;241m.\u001b[39msleep(\u001b[38;5;241m0.1\u001b[39m)  \u001b[38;5;66;03m# Adjust pause time as needed\u001b[39;00m\n\u001b[0;32m     61\u001b[0m plt\u001b[38;5;241m.\u001b[39mshow()\n",
      "\u001b[1;31mKeyboardInterrupt\u001b[0m: "
     ]
    },
    {
     "name": "stdout",
     "output_type": "stream",
     "text": [
      "Error in callback <function flush_figures at 0x00000176378C0720> (for post_execute), with arguments args (),kwargs {}:\n"
     ]
    },
    {
     "name": "stderr",
     "output_type": "stream",
     "text": [
      "\n",
      "KeyboardInterrupt\n",
      "\n"
     ]
    }
   ],
   "source": [
    "# Maximum points to display\n",
    "max_points = 1000\n",
    "\n",
    "# Set up interactive plot with ipywidgets\n",
    "fig, (ax1, ax2, ax3) = plt.subplots(3, 1, figsize=(10, 8))\n",
    "\n",
    "# Initialize line plots\n",
    "line1, = ax1.plot([], [], 'b')\n",
    "ax1.set_title('Interpolated Signal Over Time')\n",
    "ax1.set_xlabel('Time (UTC)')\n",
    "ax1.set_ylabel('Signal')\n",
    "ax1.grid(True)\n",
    "\n",
    "line2, = ax2.plot([], [], 'r')\n",
    "ax2.set_title('Average Power in Frequency Range (0.05 - 0.25 Hz)')\n",
    "ax2.set_xlabel('Time (UTC)')\n",
    "ax2.set_ylabel('Average Power (dB)')\n",
    "ax2.grid(True)\n",
    "\n",
    "# Initialize spectrogram plot\n",
    "img = ax3.imshow(np.zeros_like(p_db), aspect='auto', origin='lower',\n",
    "                 extent=[t_utc[0], t_utc[-1], f[0], f[-1]], cmap='viridis')\n",
    "ax3.set_title('Spectrogram - Frequency Change Over Time')\n",
    "ax3.set_xlabel('Time (UTC)')\n",
    "ax3.set_ylabel('Frequency (Hz)')\n",
    "fig.colorbar(img, ax=ax3)\n",
    "\n",
    "# Real-time update function\n",
    "def update_plot(i):\n",
    "    start_idx = max(0, i - max_points)\n",
    "    idx_range = slice(start_idx, i)\n",
    "    \n",
    "    # Update interpolated signal plot\n",
    "    line1.set_data(new_time_utc[idx_range], interpolated_signal[idx_range])\n",
    "    ax1.set_xlim(new_time_utc[start_idx], new_time_utc[i])\n",
    "    ax1.set_ylim(np.min(interpolated_signal), np.max(interpolated_signal))\n",
    "    \n",
    "    # Update average power plot\n",
    "    if i < len(avg_power):\n",
    "        line2.set_data(new_time_utc[:i], avg_power[:i])\n",
    "        ax2.set_xlim(new_time_utc[0], new_time_utc[i])\n",
    "        ax2.set_ylim(np.min(avg_power), np.max(avg_power))\n",
    "        \n",
    "        # Mark detected failure times\n",
    "        failure_indices = np.where(avg_power[:i] > threshold)[0]\n",
    "        for failure_idx in failure_indices:\n",
    "            ax2.axvline(new_time_utc[failure_idx], color='k', linestyle='--', linewidth=2)\n",
    "\n",
    "    # Update spectrogram plot\n",
    "    if i < len(t):\n",
    "        img.set_data(p_db[:, :i])\n",
    "        img.set_extent([t_utc[0], t_utc[i-1], f[0], f[-1]])\n",
    "    \n",
    "    fig.canvas.draw_idle()\n",
    "\n",
    "# Run real-time update loop\n",
    "for i in range(1, len(new_time_utc)):\n",
    "    update_plot(i)\n",
    "    time.sleep(0.1)  # Adjust pause time as needed\n",
    "\n",
    "plt.show()"
   ]
  },
  {
   "cell_type": "code",
   "execution_count": null,
   "id": "fbbcf752-ade3-48a3-8770-5d992b173b79",
   "metadata": {},
   "outputs": [],
   "source": []
  }
 ],
 "metadata": {
  "kernelspec": {
   "display_name": "Python 3 (ipykernel)",
   "language": "python",
   "name": "python3"
  },
  "language_info": {
   "codemirror_mode": {
    "name": "ipython",
    "version": 3
   },
   "file_extension": ".py",
   "mimetype": "text/x-python",
   "name": "python",
   "nbconvert_exporter": "python",
   "pygments_lexer": "ipython3",
   "version": "3.11.9"
  }
 },
 "nbformat": 4,
 "nbformat_minor": 5
}
