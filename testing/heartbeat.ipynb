{
 "cells": [
  {
   "cell_type": "code",
   "execution_count": 1,
   "id": "96ac80ff-2ad4-45a5-9088-0bd026d5ebc3",
   "metadata": {},
   "outputs": [],
   "source": [
    "import opcua\n",
    "from opcua.client import client\n",
    "import sys\n",
    "import time\n",
    "import threading\n",
    "from queue import Queue\n"
   ]
  },
  {
   "cell_type": "code",
   "execution_count": 2,
   "id": "ba6fdae5-6756-4c7a-87ba-962171d1e0d6",
   "metadata": {},
   "outputs": [],
   "source": [
    "mxcl = client.Client(\"opc.tcp://192.168.1.2:48010\")"
   ]
  },
  {
   "cell_type": "code",
   "execution_count": 3,
   "id": "cbc30391-c086-45c1-b587-301e0af1b3da",
   "metadata": {},
   "outputs": [],
   "source": [
    "mxcl.connect()"
   ]
  },
  {
   "cell_type": "code",
   "execution_count": 4,
   "id": "a5654728-dbc7-45f4-9008-84ac11f7983c",
   "metadata": {},
   "outputs": [],
   "source": [
    "objnode = mxcl.get_objects_node()"
   ]
  },
  {
   "cell_type": "code",
   "execution_count": 5,
   "id": "fd3aba45-9ff1-4456-85e3-6593e5107ff7",
   "metadata": {},
   "outputs": [
    {
     "data": {
      "text/plain": [
       "[Node(FourByteNodeId(i=2253)),\n",
       " Node(FourByteNodeId(ns=2;i=1001)),\n",
       " Node(FourByteNodeId(ns=2;i=1002)),\n",
       " Node(FourByteNodeId(ns=2;i=1003))]"
      ]
     },
     "execution_count": 5,
     "metadata": {},
     "output_type": "execute_result"
    }
   ],
   "source": [
    "objnode.get_children()"
   ]
  },
  {
   "cell_type": "code",
   "execution_count": 6,
   "id": "c8cf05dd-1bd2-4271-aba3-591e574bc5d0",
   "metadata": {},
   "outputs": [],
   "source": [
    "values_node = objnode.get_children()[3]"
   ]
  },
  {
   "cell_type": "code",
   "execution_count": 7,
   "id": "e77995d3-039e-4476-99ee-6de822d6104a",
   "metadata": {},
   "outputs": [],
   "source": [
    "attributes_node = values_node.get_children()[0]"
   ]
  },
  {
   "cell_type": "code",
   "execution_count": 8,
   "id": "48b2210c-828b-44c7-b807-7fd2c3a45f02",
   "metadata": {
    "scrolled": true
   },
   "outputs": [
    {
     "data": {
      "text/plain": [
       "[Node(StringNodeId(ns=2;s=Tags.GECO/MPRX_DI_DOS1_Flowrate_50Hz_mlmin_I)),\n",
       " Node(StringNodeId(ns=2;s=Tags.GECO/MPRX_DI_DOS2_Flowrate_50Hz_mlmin_I)),\n",
       " Node(StringNodeId(ns=2;s=Tags.GECO/MPRX_DI_DOS3_Flowrate_50Hz_mlmin_I)),\n",
       " Node(StringNodeId(ns=2;s=Tags.GECO/MPRX_DI_FOG_Flowrate_50Hz_lmin_I)),\n",
       " Node(StringNodeId(ns=2;s=Tags.GECO/MPRX_DI_FOG_Foam_Air_Factor_I)),\n",
       " Node(StringNodeId(ns=2;s=Tags.GECO/MPRX_DI_FOG_Foam_Density_gl_I)),\n",
       " Node(StringNodeId(ns=2;s=Tags.GECO/MPRX_DI_FOG_Foam_Loss_Factor_pct_I)),\n",
       " Node(StringNodeId(ns=2;s=Tags.GECO/MPRX_DI_FOG_Foamingagent_pct_R)),\n",
       " Node(StringNodeId(ns=2;s=Tags.GECO/MPRX_DI_FOG_RESERVED_Foamingagent_cpct_I)),\n",
       " Node(StringNodeId(ns=2;s=Tags.GECO/MPRX_DI_MIX_Speed_Hz_I)),\n",
       " Node(StringNodeId(ns=2;s=Tags.GECO/MPRX_DI_Mixer_After_Water_s_R)),\n",
       " Node(StringNodeId(ns=2;s=Tags.GECO/MPRX_DI_Mixer_Disabled)),\n",
       " Node(StringNodeId(ns=2;s=Tags.GECO/MPRX_DI_Pressure_Limit_bar_R)),\n",
       " Node(StringNodeId(ns=2;s=Tags.GECO/MPRX_DI_Pressure_Reg_Acc_Speed_Hz_s_R)),\n",
       " Node(StringNodeId(ns=2;s=Tags.GECO/MPRX_DI_Pressure_Reg_Active)),\n",
       " Node(StringNodeId(ns=2;s=Tags.GECO/MPRX_DI_Pressure_Reg_Limit_pct_I)),\n",
       " Node(StringNodeId(ns=2;s=Tags.GECO/MPRX_DI_Pressure_Reg_Red_Speed_I)),\n",
       " Node(StringNodeId(ns=2;s=Tags.GECO/MPRX_DI_Pressure_Reg_Start_Freq_Hz_I)),\n",
       " Node(StringNodeId(ns=2;s=Tags.GECO/MPRX_DI_Pump_Auto_Reverse_Run_Active)),\n",
       " Node(StringNodeId(ns=2;s=Tags.GECO/MPRX_DI_Pump_Auto_Reverse_Run_Time_s_I)),\n",
       " Node(StringNodeId(ns=2;s=Tags.GECO/MPRX_DI_Pump_Vib_Mode_I)),\n",
       " Node(StringNodeId(ns=2;s=Tags.GECO/MPRX_DI_Pump_Vib_Pause_Time_s_I)),\n",
       " Node(StringNodeId(ns=2;s=Tags.GECO/MPRX_DI_Pump_Vib_Run_Time_s_I)),\n",
       " Node(StringNodeId(ns=2;s=Tags.GECO/MPRX_DI_Reset_Error)),\n",
       " Node(StringNodeId(ns=2;s=Tags.GECO/MPRX_DI_SLD_Printhead_active)),\n",
       " Node(StringNodeId(ns=2;s=Tags.GECO/MPRX_DI_Water_Before_Mixer_s_R)),\n",
       " Node(StringNodeId(ns=2;s=Tags.GECO/MPRX_DI_Water_Flowrate_Set_lh_I)),\n",
       " Node(StringNodeId(ns=2;s=Tags.GECO/MPRX_DI_Wetprobe_Upper_Cov_Delay_s_I)),\n",
       " Node(StringNodeId(ns=2;s=Tags.GECO/MPRX_DI_Wetprobe_Upper_NCov_Delay_s_I)),\n",
       " Node(StringNodeId(ns=2;s=Tags.GECO/MPRX_EXT_DOS1_Run)),\n",
       " Node(StringNodeId(ns=2;s=Tags.GECO/MPRX_EXT_DOS2_Run)),\n",
       " Node(StringNodeId(ns=2;s=Tags.GECO/MPRX_EXT_DOS3_Run)),\n",
       " Node(StringNodeId(ns=2;s=Tags.GECO/MPRX_EXT_FOG_Run)),\n",
       " Node(StringNodeId(ns=2;s=Tags.GECO/MPRX_EXT_Heartbeat)),\n",
       " Node(StringNodeId(ns=2;s=Tags.GECO/MPRX_EXT_MIX_Run)),\n",
       " Node(StringNodeId(ns=2;s=Tags.GECO/MPRX_EXT_Pump_Run)),\n",
       " Node(StringNodeId(ns=2;s=Tags.GECO/MPRX_EXT_Pump_Run_Reverse)),\n",
       " Node(StringNodeId(ns=2;s=Tags.GECO/MPRX_EXT_Pump_Speed_cHz_I)),\n",
       " Node(StringNodeId(ns=2;s=Tags.GECO/MPTX_DI_Air_Humidity_pct_R)),\n",
       " Node(StringNodeId(ns=2;s=Tags.GECO/MPTX_DI_Air_Temperature_C_R)),\n",
       " Node(StringNodeId(ns=2;s=Tags.GECO/MPTX_DI_Mortar_Temperature_C_R)),\n",
       " Node(StringNodeId(ns=2;s=Tags.GECO/MPTX_DI_Water_Temperature_C_R)),\n",
       " Node(StringNodeId(ns=2;s=Tags.GECO/MPXMB_Mixer_OutputCurrent_dA_I)),\n",
       " Node(StringNodeId(ns=2;s=Tags.GECO/MPXMB_Pump_OutputCurrent_dA_I)),\n",
       " Node(StringNodeId(ns=2;s=Tags.GECO/MPXMB_Pump_OutputPower_W_I)),\n",
       " Node(StringNodeId(ns=2;s=Tags.GECO/MPXMB_Waterpump_OutputFrequency_cHz_I)),\n",
       " Node(StringNodeId(ns=2;s=Tags.GECO/MPYMB_Waterpump_FrequencyRef_cHz_I)),\n",
       " Node(StringNodeId(ns=2;s=Tags.GECO/MPY_Valve_Watertank)),\n",
       " Node(StringNodeId(ns=2;s=Tags.GECO/MP_Auto_On)),\n",
       " Node(StringNodeId(ns=2;s=Tags.GECO/MP_DOS1_Flowrate_current_mlmin_I)),\n",
       " Node(StringNodeId(ns=2;s=Tags.GECO/MP_DOS2_Flowrate_current_mlmin_I)),\n",
       " Node(StringNodeId(ns=2;s=Tags.GECO/MP_DOS3_Flowrate_current_mlmin_I)),\n",
       " Node(StringNodeId(ns=2;s=Tags.GECO/MP_Error_Any_Active)),\n",
       " Node(StringNodeId(ns=2;s=Tags.GECO/MP_Master_On)),\n",
       " Node(StringNodeId(ns=2;s=Tags.GECO/MP_Mixer_Run)),\n",
       " Node(StringNodeId(ns=2;s=Tags.GECO/MP_Pressure_reached)),\n",
       " Node(StringNodeId(ns=2;s=Tags.GECO/MP_Pump_Pressure_Current_bar_R)),\n",
       " Node(StringNodeId(ns=2;s=Tags.GECO/MP_Pump_Run)),\n",
       " Node(StringNodeId(ns=2;s=Tags.GECO/MP_Water_Run)),\n",
       " Node(StringNodeId(ns=2;s=Tags.GECO/MP_Waterflowrate_current_Lh_R)),\n",
       " Node(StringNodeId(ns=2;s=Tags.GECO/MP_Waterprobe_Upper_Cov)),\n",
       " Node(StringNodeId(ns=2;s=Tags.PH/PHRX_DI_DOS_Flowrate_Set_mlmin_I)),\n",
       " Node(StringNodeId(ns=2;s=Tags.PH/PHRX_DI_DOS_Reverse)),\n",
       " Node(StringNodeId(ns=2;s=Tags.PH/PHRX_DI_DOS_Run)),\n",
       " Node(StringNodeId(ns=2;s=Tags.PH/PHRX_DI_Level_Probe_Acc_Analog_Sensor_active)),\n",
       " Node(StringNodeId(ns=2;s=Tags.PH/PHRX_DI_Mixer_Run)),\n",
       " Node(StringNodeId(ns=2;s=Tags.PH/PHRX_DI_Mixer_Speed_Set_rpm_I)),\n",
       " Node(StringNodeId(ns=2;s=Tags.PH/PHRX_DI_Printhead_1K_Active)),\n",
       " Node(StringNodeId(ns=2;s=Tags.PH/PHRX_EXT_Close_EV_Acc)),\n",
       " Node(StringNodeId(ns=2;s=Tags.PH/PHRX_EXT_Close_EV_Bypass)),\n",
       " Node(StringNodeId(ns=2;s=Tags.PH/PHRX_EXT_Error_Robot)),\n",
       " Node(StringNodeId(ns=2;s=Tags.PH/PHRX_EXT_Open_EV_Acc)),\n",
       " Node(StringNodeId(ns=2;s=Tags.PH/PHRX_EXT_Open_EV_Bypass)),\n",
       " Node(StringNodeId(ns=2;s=Tags.PH/PHRX_EXT_Open_MV_Cleaning)),\n",
       " Node(StringNodeId(ns=2;s=Tags.PH/PHRX_EXT_Open_MV_Cleaning_Dos)),\n",
       " Node(StringNodeId(ns=2;s=Tags.PH/PHRX_EXT_Open_MV_Cleaning_throttled)),\n",
       " Node(StringNodeId(ns=2;s=Tags.PH/PHRX_EXT_Open_MV_Pinch_Valve)),\n",
       " Node(StringNodeId(ns=2;s=Tags.PH/PHRX_EXT_Open_MV_Vibrator)),\n",
       " Node(StringNodeId(ns=2;s=Tags.PH/PHXMB_Dos_OutputFrequency_cHz_I)),\n",
       " Node(StringNodeId(ns=2;s=Tags.PH/PHXMB_Dos_Status_Fault)),\n",
       " Node(StringNodeId(ns=2;s=Tags.PH/PHXMB_Dos_Status_Run)),\n",
       " Node(StringNodeId(ns=2;s=Tags.PH/PHXMB_Mixer_OutputCurrent_dA_I)),\n",
       " Node(StringNodeId(ns=2;s=Tags.PH/PHXMB_Mixer_OutputPower_W_I)),\n",
       " Node(StringNodeId(ns=2;s=Tags.PH/PHXMB_Mixer_Status_Fault)),\n",
       " Node(StringNodeId(ns=2;s=Tags.PH/PHXMB_Mixer_Status_Run)),\n",
       " Node(StringNodeId(ns=2;s=Tags.PH/PHX_Accelerator_Level_Switch)),\n",
       " Node(StringNodeId(ns=2;s=Tags.PH/PHX_EV_Acc_closed)),\n",
       " Node(StringNodeId(ns=2;s=Tags.PH/PHX_EV_Acc_open)),\n",
       " Node(StringNodeId(ns=2;s=Tags.PH/PHX_EV_Bypass_closed)),\n",
       " Node(StringNodeId(ns=2;s=Tags.PH/PHX_EV_Bypass_open)),\n",
       " Node(StringNodeId(ns=2;s=Tags.PH/PHX_Safety_Circuit_Mixer_Triggered)),\n",
       " Node(StringNodeId(ns=2;s=Tags.PH/PHYMB_DOS_FrequencyRef_cHz_I)),\n",
       " Node(StringNodeId(ns=2;s=Tags.PH/PH_Accelerator_Fill_Level_Current_mm_I)),\n",
       " Node(StringNodeId(ns=2;s=Tags.PH/PH_Accelerator_Pressure_Current_bar_R)),\n",
       " Node(StringNodeId(ns=2;s=Tags.PH/PH_Accelerator_Temperature_Current_C_R)),\n",
       " Node(StringNodeId(ns=2;s=Tags.PH/PH_DOS_Flowrate_Current_mlmin_R)),\n",
       " Node(StringNodeId(ns=2;s=Tags.PH/PH_DOS_Pressure_Current_bar_R)),\n",
       " Node(StringNodeId(ns=2;s=Tags.PH/PH_Mixer_Motor_Capacity_pct_I)),\n",
       " Node(StringNodeId(ns=2;s=Tags.PH/PH_Mixer_Speed_Current_Rpm_I)),\n",
       " Node(StringNodeId(ns=2;s=Tags.PH/PH_Mortar_Pressure_In_Current_bar_R)),\n",
       " Node(StringNodeId(ns=2;s=Tags.PH/PH_Mortar_Temperature_In_C_R)),\n",
       " Node(StringNodeId(ns=2;s=Tags.PH/PH_Mortar_Temperature_Out_C_R))]"
      ]
     },
     "execution_count": 8,
     "metadata": {},
     "output_type": "execute_result"
    }
   ],
   "source": [
    "nodes_v = attributes_node.get_children()\n",
    "nodes_v"
   ]
  },
  {
   "cell_type": "code",
   "execution_count": 9,
   "id": "fd07887f-4f39-4a82-950c-8dad3900f886",
   "metadata": {},
   "outputs": [],
   "source": [
    "def heartbeat_loop():\n",
    "    # hb_value = 'GECO/MPRX_EXT_Heartbeat'\n",
    "    hb_idx = 35\n",
    "    heartbeat_variant = nodes_v[hb_idx].get_data_value()\n",
    "    datavalue = opcua.ua.DataValue(opcua.ua.Variant(True, \n",
    "                                                    heartbeat_variant.Value.VariantType), status=None)\n",
    "    while True:\n",
    "        nodes_v[hb_idx].set_attribute(13, datavalue)\n",
    "        time.sleep(.3)\n"
   ]
  },
  {
   "cell_type": "code",
   "execution_count": 10,
   "id": "5b348974-10f4-4b79-86aa-fa59c514f316",
   "metadata": {},
   "outputs": [
    {
     "ename": "KeyboardInterrupt",
     "evalue": "",
     "output_type": "error",
     "traceback": [
      "\u001b[1;31m---------------------------------------------------------------------------\u001b[0m",
      "\u001b[1;31mKeyboardInterrupt\u001b[0m                         Traceback (most recent call last)",
      "Cell \u001b[1;32mIn[10], line 1\u001b[0m\n\u001b[1;32m----> 1\u001b[0m heartbeat_loop()\n",
      "Cell \u001b[1;32mIn[9], line 9\u001b[0m, in \u001b[0;36mheartbeat_loop\u001b[1;34m()\u001b[0m\n\u001b[0;32m      7\u001b[0m \u001b[38;5;28;01mwhile\u001b[39;00m \u001b[38;5;28;01mTrue\u001b[39;00m:\n\u001b[0;32m      8\u001b[0m     nodes_v[hb_idx]\u001b[38;5;241m.\u001b[39mset_attribute(\u001b[38;5;241m13\u001b[39m, datavalue)\n\u001b[1;32m----> 9\u001b[0m     time\u001b[38;5;241m.\u001b[39msleep(\u001b[38;5;241m.3\u001b[39m)\n",
      "\u001b[1;31mKeyboardInterrupt\u001b[0m: "
     ]
    },
    {
     "name": "stderr",
     "output_type": "stream",
     "text": [
      "exception calling callback for <Future at 0x19947f5be10 state=cancelled>\n",
      "Traceback (most recent call last):\n",
      "  File \"C:\\Users\\cjwattz\\AppData\\Local\\anaconda3\\envs\\concrete\\Lib\\concurrent\\futures\\_base.py\", line 340, in _invoke_callbacks\n",
      "    callback(self)\n",
      "  File \"C:\\Users\\cjwattz\\AppData\\Local\\anaconda3\\envs\\concrete\\Lib\\site-packages\\opcua\\client\\ua_client.py\", line 201, in clb\n",
      "    response = struct_from_binary(ua.OpenSecureChannelResponse, future.result())\n",
      "                                                                ^^^^^^^^^^^^^^^\n",
      "  File \"C:\\Users\\cjwattz\\AppData\\Local\\anaconda3\\envs\\concrete\\Lib\\concurrent\\futures\\_base.py\", line 447, in result\n",
      "    raise CancelledError()\n",
      "concurrent.futures._base.CancelledError\n"
     ]
    }
   ],
   "source": [
    "heartbeat_loop()"
   ]
  },
  {
   "cell_type": "code",
   "execution_count": null,
   "id": "293681ff-4b76-428b-a059-693c7285bc05",
   "metadata": {},
   "outputs": [],
   "source": []
  }
 ],
 "metadata": {
  "kernelspec": {
   "display_name": "Python 3 (ipykernel)",
   "language": "python",
   "name": "python3"
  },
  "language_info": {
   "codemirror_mode": {
    "name": "ipython",
    "version": 3
   },
   "file_extension": ".py",
   "mimetype": "text/x-python",
   "name": "python",
   "nbconvert_exporter": "python",
   "pygments_lexer": "ipython3",
   "version": "3.11.9"
  }
 },
 "nbformat": 4,
 "nbformat_minor": 5
}
