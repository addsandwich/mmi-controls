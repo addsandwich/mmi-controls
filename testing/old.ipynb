{
 "cells": [
  {
   "cell_type": "code",
   "execution_count": null,
   "id": "190ce4a3-ba38-4079-9eb5-a25f02c91aa2",
   "metadata": {},
   "outputs": [],
   "source": [
    "def plot_stuff(df):\n",
    "    # Create a figure with two subplots (1 row, 2 columns)\n",
    "    fig, (ax1, ax2, ax3, ax4, ax5) = plt.subplots(5, 1, figsize=(15, 20))\n",
    "    #first_run = [19895.669, 19895.679]\n",
    "    #second_run = [19895.691, 19895.699]\n",
    "    fig.subplots_adjust(wspace=1, hspace=1)\n",
    "    ax1.plot(df['EST'], df['GECO/MP_Pump_Pressure_Current_bar_R'])\n",
    "    est = pytz.timezone('EST')\n",
    "    myFmt = mdates.DateFormatter('%H:%M', tz=est)\n",
    "    ax1.xaxis.set_major_formatter(myFmt)\n",
    "    ylim = ax1.get_ylim()\n",
    "    xlim = ax1.get_xlim()\n",
    "    #ax1.vlines(first_run, ylim[0], ylim[1], colors='red', label='First Run')\n",
    "    #ax1.vlines(second_run, ylim[0], ylim[1], colors='green', label='Second Run')\n",
    "    #ax1.legend()\n",
    "    # Adding axis labels and title\n",
    "    ax1.set_xlabel('Time(HH:MM)')\n",
    "    ax1.set_ylabel('Pressure(Bar)')\n",
    "    ax1.set_title('Hose Pressure Over Time')\n",
    "    \n",
    "    #MPTX_DI_Air_Humidity_pct_R\n",
    "    \n",
    "    ax2.plot(df['EST'], df['GECO/MPTX_DI_Water_Temperature_C_R'])\n",
    "    myFmt = mdates.DateFormatter('%H:%M')\n",
    "    ax2.xaxis.set_major_formatter(myFmt)\n",
    "    ylim = ax2.get_ylim()\n",
    "    xlim = ax2.get_xlim()\n",
    "    #ax1.vlines(first_run, ylim[0], ylim[1], colors='red', label='First Run')\n",
    "    #ax1.vlines(second_run, ylim[0], ylim[1], colors='green', label='Second Run')\n",
    "    #ax1.legend()\n",
    "    # Adding axis labels and title\n",
    "    ax2.set_xlabel('Time(HH:MM)')\n",
    "    ax2.set_ylabel('Water Tempurature(C)')\n",
    "    ax2.set_title('Water Tempurature Over Time')\n",
    "    \n",
    "    ax3.plot(df['EST'], df['GECO/MPXMB_Pump_OutputCurrent_dA_I'])\n",
    "    myFmt = mdates.DateFormatter('%H:%M')\n",
    "    ax3.xaxis.set_major_formatter(myFmt)\n",
    "    ylim = ax3.get_ylim()\n",
    "    xlim = ax3.get_xlim()\n",
    "    #ax1.vlines(first_run, ylim[0], ylim[1], colors='red', label='First Run')\n",
    "    #ax1.vlines(second_run, ylim[0], ylim[1], colors='green', label='Second Run')\n",
    "    #ax1.legend()\n",
    "    # Adding axis labels and title\n",
    "    ax3.set_xlabel('Time(HH:MM)')\n",
    "    ax3.set_ylabel('Pump Current(dAmps)')\n",
    "    ax3.set_title('Pump Current Over Time')\n",
    "    \n",
    "    ax4.plot(df['EST'], df['GECO/MPXMB_Pump_OutputPower_W_I'])\n",
    "    myFmt = mdates.DateFormatter('%H:%M')\n",
    "    ax4.xaxis.set_major_formatter(myFmt)\n",
    "    ylim = ax4.get_ylim()\n",
    "    xlim = ax4.get_xlim()\n",
    "    #ax1.vlines(first_run, ylim[0], ylim[1], colors='red', label='First Run')\n",
    "    #ax1.vlines(second_run, ylim[0], ylim[1], colors='green', label='Second Run')\n",
    "    #ax1.legend()\n",
    "    # Adding axis labels and title\n",
    "    ax4.set_xlabel('Time(HH:MM)')\n",
    "    ax4.set_ylabel('Pump Power(Watts)')\n",
    "    ax4.set_title('Pump Watts Over Time')\n",
    "    \n",
    "    ax5.plot(df['EST'], df['GECO/MPTX_DI_Air_Temperature_C_R'])\n",
    "    myFmt = mdates.DateFormatter('%H:%M')\n",
    "    ax5.xaxis.set_major_formatter(myFmt)\n",
    "    ylim = ax5.get_ylim()\n",
    "    xlim = ax5.get_xlim()\n",
    "    #ax1.vlines(first_run, ylim[0], ylim[1], colors='red', label='First Run')\n",
    "    #ax1.vlines(second_run, ylim[0], ylim[1], colors='green', label='Second Run')\n",
    "    #ax1.legend()\n",
    "    # Adding axis labels and title\n",
    "    ax5.set_xlabel('Time(HH:MM)')\n",
    "    ax5.set_ylabel('Ambient Temp(C)')\n",
    "    ax5.set_title('Ambient Temp Over Time')"
   ]
  },
  {
   "cell_type": "code",
   "execution_count": 88,
   "id": "53e16a14-09d3-4385-a153-b7c0e6d2c3be",
   "metadata": {},
   "outputs": [],
   "source": [
    "df.to_csv(\"30-08-24_PumpData.csv\")"
   ]
  },
  {
   "cell_type": "code",
   "execution_count": null,
   "id": "0eaea1ee-8852-49de-ba70-f921eb0e73b0",
   "metadata": {},
   "outputs": [],
   "source": [
    "robot = pd.read_csv(\"0842024_RobotMotion.csv\", low_memory=False)\n",
    "#robot = robot[:400000]\n",
    "#robot = robot.astype({'A3 Velo':'float64'})"
   ]
  },
  {
   "cell_type": "code",
   "execution_count": null,
   "id": "9cabdb7b-80a8-4d03-934c-298e50e6a4ba",
   "metadata": {},
   "outputs": [],
   "source": [
    "robot.dtypes"
   ]
  },
  {
   "cell_type": "code",
   "execution_count": null,
   "id": "8a3e7540-8b2c-46b5-8822-7dfc844c48ef",
   "metadata": {},
   "outputs": [],
   "source": [
    "# Create a figure with two subplots (1 row, 2 columns)\n",
    "fig, ax = plt.subplots(1, 1, figsize=(15, 10))\n",
    "\n",
    "ax.plot(robot['2K Mixer Torque'], label='Axis 1')\n",
    "#ax.plot(robot['A2 Acc'][0:400000], label='Axis 2')\n",
    "#ax.plot(robot['A3 Acc'][0:400000], label='Axis 3')\n",
    "#ax.plot(robot['A4 Acc'][0:400000], label='Axis 4')\n",
    "#ax.plot(robot['A5 Acc'][0:400000], label='Axis 5')\n",
    "#ax.plot(robot['A6 Acc'][0:400000], label='Axis 6')\n",
    "#ax1.set_xlabel('Time(HH:MM)')\n",
    "ax.set_ylabel('Nm')\n",
    "ax.set_title('Torque Over Time')\n",
    "ax.legend()"
   ]
  },
  {
   "cell_type": "code",
   "execution_count": null,
   "id": "28bbfcf0-21a4-4ccc-934f-6572c0c653a6",
   "metadata": {},
   "outputs": [],
   "source": [
    "robot.dtypes"
   ]
  },
  {
   "cell_type": "code",
   "execution_count": null,
   "id": "af6c1128-b249-4479-afdc-9700daa52bfd",
   "metadata": {},
   "outputs": [],
   "source": [
    "#robot = robot[:400000]"
   ]
  },
  {
   "cell_type": "code",
   "execution_count": null,
   "id": "5f327f05-0440-4e36-a3cd-0ab127c649ba",
   "metadata": {},
   "outputs": [],
   "source": [
    "construct = pd.read_csv(\"ttyACM0-test.csv\", low_memory=False)"
   ]
  },
  {
   "cell_type": "code",
   "execution_count": null,
   "id": "6ff51181-c443-4088-9df7-d30a47243491",
   "metadata": {},
   "outputs": [],
   "source": [
    "construct"
   ]
  },
  {
   "cell_type": "code",
   "execution_count": null,
   "id": "c2b0057f-1c74-48b8-b464-2a5e4e2eb84c",
   "metadata": {},
   "outputs": [],
   "source": [
    "sense1 = construct[construct['sensor']=='Temp01']\n",
    "sense2 = construct[construct['sensor']=='Temp02']\n",
    "sense3 = construct[construct['sensor']=='Temp03']\n",
    "sense4 = construct[construct['sensor']=='Temp04']\n",
    "sense5 = construct[construct['sensor']=='Temp05']"
   ]
  },
  {
   "cell_type": "code",
   "execution_count": null,
   "id": "0d92a59d-e01e-43fd-abb2-25c65c199f76",
   "metadata": {},
   "outputs": [],
   "source": [
    "sense1"
   ]
  },
  {
   "cell_type": "code",
   "execution_count": null,
   "id": "20cfd297-5bcc-4491-b367-f612f7c09dfd",
   "metadata": {},
   "outputs": [],
   "source": [
    "# Create a figure with two subplots (1 row, 2 columns)\n",
    "fig, ax = plt.subplots(1, 1, figsize=(15, 10))\n",
    "\n",
    "ax.plot(sense1['temp'], label='Temp Sensor 1')\n",
    "ax.plot(sense2['temp'], label='Temp Sensor 2')\n",
    "ax.plot(sense3['temp'], label='Temp Sensor 3')\n",
    "ax.plot(sense4['temp'], label='Temp Sensor 4')\n",
    "ax.plot(sense5['temp'], label='Temp Sensor 5')\n",
    "#ax1.set_xlabel('Time(HH:MM)')\n",
    "ax.set_ylabel('Degrees C')\n",
    "ax.set_title('Tempurature Over Time')\n",
    "ax.legend()"
   ]
  },
  {
   "cell_type": "code",
   "execution_count": null,
   "id": "dc7be41b-242c-4418-a1b7-3b48be72a1c6",
   "metadata": {},
   "outputs": [],
   "source": [
    "construct_moist = pd.read_csv(\"ttyACM1-test.csv\", low_memory=False)"
   ]
  },
  {
   "cell_type": "code",
   "execution_count": null,
   "id": "ff0f756b-766d-4946-939f-09b156903067",
   "metadata": {},
   "outputs": [],
   "source": [
    "construct_moist"
   ]
  },
  {
   "cell_type": "code",
   "execution_count": null,
   "id": "81541a9b-ea81-4d00-b679-a0d4dc70be66",
   "metadata": {},
   "outputs": [],
   "source": [
    "sense_moist1 = construct_moist[construct_moist['sensor']=='sensorA0']\n",
    "sense_moist2 = construct_moist[construct_moist['sensor']=='sensorA1']\n",
    "sense_moist3 = construct_moist[construct_moist['sensor']=='sensorA3']"
   ]
  },
  {
   "cell_type": "code",
   "execution_count": null,
   "id": "54426b7f-2a9d-4e63-b045-807509ffb2c8",
   "metadata": {},
   "outputs": [],
   "source": [
    "# Create a figure with two subplots (1 row, 2 columns)\n",
    "fig, ax = plt.subplots(1, 1, figsize=(15, 10))\n",
    "\n",
    "ax.plot(sense_moist1['temp'].apply(translate), label='Moisture Sensor 1')\n",
    "ax.plot(sense_moist2['temp'].apply(translate), label='Moisture Sensor 2')\n",
    "ax.plot(sense_moist3['temp'].apply(translate), label='Moisture Sensor 3')\n",
    "#ax1.set_xlabel('Time(HH:MM)')\n",
    "ax.set_ylabel('Water Percentage')\n",
    "ax.set_title('Moisture Over Time')\n",
    "ax.legend()"
   ]
  },
  {
   "cell_type": "code",
   "execution_count": null,
   "id": "c9fe64a2-5115-42b7-a66c-98a61bf19743",
   "metadata": {},
   "outputs": [],
   "source": [
    "def translate(value):\n",
    "    leftMax = 200\n",
    "    leftMin = 500\n",
    "\n",
    "    rightMin = 52\n",
    "    rightMax = 100\n",
    "    \n",
    "    # Figure out how 'wide' each range is\n",
    "    leftSpan = leftMax - leftMin\n",
    "    rightSpan = rightMax - rightMin\n",
    "\n",
    "    # Convert the left range into a 0-1 range (float)\n",
    "    valueScaled = float(value - leftMin) / float(leftSpan)\n",
    "\n",
    "    # Convert the 0-1 range into a value in the right range.\n",
    "    return rightMin + (valueScaled * rightSpan)"
   ]
  },
  {
   "cell_type": "code",
   "execution_count": null,
   "id": "d27d8b50-43aa-417a-81d9-9b03bbb09f50",
   "metadata": {},
   "outputs": [],
   "source": [
    "translate(450)"
   ]
  },
  {
   "cell_type": "code",
   "execution_count": null,
   "id": "9c793e4e-26df-4452-9281-4fe914440fdc",
   "metadata": {},
   "outputs": [],
   "source": [
    "head = pd.read_csv(\"ttyACM2-test.csv\", low_memory=False)\n",
    "head"
   ]
  },
  {
   "cell_type": "code",
   "execution_count": null,
   "id": "ad5ebfe6-8f42-4c5c-b480-95930f8513f3",
   "metadata": {},
   "outputs": [],
   "source": [
    "sense_head1 = head[head['sensor']=='Head01']\n",
    "sense_head2 = head[head['sensor']=='Head02']"
   ]
  },
  {
   "cell_type": "code",
   "execution_count": null,
   "id": "320a3419-2034-4382-b5a6-9839e4e567bf",
   "metadata": {},
   "outputs": [],
   "source": [
    "# Create a figure with two subplots (1 row, 2 columns)\n",
    "fig, ax = plt.subplots(1, 1, figsize=(15, 10))\n",
    "\n",
    "ax.plot(sense_head1['temp'], label='Tool Sensor Top')\n",
    "ax.plot(sense_head2['temp'], label='Tool Sensor Bottom')\n",
    "#ax1.set_xlabel('Time(HH:MM)')\n",
    "ax.set_ylabel('Temperature Degrees C')\n",
    "ax.set_title('Temperature over time 2K Head')\n",
    "ax.legend()"
   ]
  },
  {
   "cell_type": "code",
   "execution_count": null,
   "id": "847f41f1-788a-4a86-b372-3402ee401485",
   "metadata": {},
   "outputs": [],
   "source": []
  }
 ],
 "metadata": {
  "kernelspec": {
   "display_name": "Python 3 (ipykernel)",
   "language": "python",
   "name": "python3"
  },
  "language_info": {
   "codemirror_mode": {
    "name": "ipython",
    "version": 3
   },
   "file_extension": ".py",
   "mimetype": "text/x-python",
   "name": "python",
   "nbconvert_exporter": "python",
   "pygments_lexer": "ipython3",
   "version": "3.11.9"
  }
 },
 "nbformat": 4,
 "nbformat_minor": 5
}
