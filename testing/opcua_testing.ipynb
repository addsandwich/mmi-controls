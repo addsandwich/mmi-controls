{
 "cells": [
  {
   "cell_type": "code",
   "execution_count": 1,
   "id": "27371f7f-84e5-4f33-af01-c3fc8091bfcf",
   "metadata": {},
   "outputs": [],
   "source": [
    "import opcua\n",
    "from opcua.client import client\n",
    "import time\n",
    "import json\n",
    "import datetime\n"
   ]
  },
  {
   "cell_type": "code",
   "execution_count": 2,
   "id": "f1f3c253-12a7-4547-ab0d-347635067989",
   "metadata": {},
   "outputs": [],
   "source": [
    "mxcl = client.Client(\"opc.tcp://192.168.1.2:48010\")"
   ]
  },
  {
   "cell_type": "code",
   "execution_count": 3,
   "id": "cd319a0d-72ec-443b-a9da-92a1d097f0a7",
   "metadata": {},
   "outputs": [],
   "source": [
    "mxcl.connect()"
   ]
  },
  {
   "cell_type": "code",
   "execution_count": 4,
   "id": "97b40c6f-4843-4a4c-bbee-54d6a4c414ab",
   "metadata": {},
   "outputs": [],
   "source": [
    "objnode = mxcl.get_objects_node()"
   ]
  },
  {
   "cell_type": "code",
   "execution_count": 5,
   "id": "6283c629-4375-4b85-a816-57247dd66fdc",
   "metadata": {},
   "outputs": [
    {
     "data": {
      "text/plain": [
       "[Node(FourByteNodeId(i=2253)),\n",
       " Node(FourByteNodeId(ns=2;i=1001)),\n",
       " Node(FourByteNodeId(ns=2;i=1002)),\n",
       " Node(FourByteNodeId(ns=2;i=1003))]"
      ]
     },
     "execution_count": 5,
     "metadata": {},
     "output_type": "execute_result"
    }
   ],
   "source": [
    "objnode.get_children()"
   ]
  },
  {
   "cell_type": "code",
   "execution_count": 6,
   "id": "e2a138ab-e17c-4803-9055-72529a25f4cb",
   "metadata": {},
   "outputs": [],
   "source": [
    "values_node = objnode.get_children()[3]"
   ]
  },
  {
   "cell_type": "code",
   "execution_count": 7,
   "id": "777d2e8a-31ec-4ec0-953f-b15f0a54426b",
   "metadata": {},
   "outputs": [],
   "source": [
    "attributes_node = values_node.get_children()[0]"
   ]
  },
  {
   "cell_type": "code",
   "execution_count": 8,
   "id": "3b205736-52b9-4c7a-80f4-01290475dbba",
   "metadata": {},
   "outputs": [
    {
     "data": {
      "text/plain": [
       "[Node(StringNodeId(ns=2;s=Tags.GECO/MPRX_DI_DOS1_Flowrate_50Hz_mlmin_I)),\n",
       " Node(StringNodeId(ns=2;s=Tags.GECO/MPRX_DI_DOS2_Flowrate_50Hz_mlmin_I)),\n",
       " Node(StringNodeId(ns=2;s=Tags.GECO/MPRX_DI_DOS3_Flowrate_50Hz_mlmin_I)),\n",
       " Node(StringNodeId(ns=2;s=Tags.GECO/MPRX_DI_FOG_Flowrate_50Hz_lmin_I)),\n",
       " Node(StringNodeId(ns=2;s=Tags.GECO/MPRX_DI_FOG_Foam_Air_Factor_I)),\n",
       " Node(StringNodeId(ns=2;s=Tags.GECO/MPRX_DI_FOG_Foam_Density_gl_I)),\n",
       " Node(StringNodeId(ns=2;s=Tags.GECO/MPRX_DI_FOG_Foam_Loss_Factor_pct_I)),\n",
       " Node(StringNodeId(ns=2;s=Tags.GECO/MPRX_DI_FOG_Foamingagent_pct_R)),\n",
       " Node(StringNodeId(ns=2;s=Tags.GECO/MPRX_DI_FOG_RESERVED_Foamingagent_cpct_I)),\n",
       " Node(StringNodeId(ns=2;s=Tags.GECO/MPRX_DI_MIX_Speed_Hz_I)),\n",
       " Node(StringNodeId(ns=2;s=Tags.GECO/MPRX_DI_Mixer_After_Water_s_R)),\n",
       " Node(StringNodeId(ns=2;s=Tags.GECO/MPRX_DI_Mixer_Disabled)),\n",
       " Node(StringNodeId(ns=2;s=Tags.GECO/MPRX_DI_Pressure_Limit_bar_R)),\n",
       " Node(StringNodeId(ns=2;s=Tags.GECO/MPRX_DI_Pressure_Reg_Acc_Speed_Hz_s_R)),\n",
       " Node(StringNodeId(ns=2;s=Tags.GECO/MPRX_DI_Pressure_Reg_Active)),\n",
       " Node(StringNodeId(ns=2;s=Tags.GECO/MPRX_DI_Pressure_Reg_Limit_pct_I)),\n",
       " Node(StringNodeId(ns=2;s=Tags.GECO/MPRX_DI_Pressure_Reg_Red_Speed_I)),\n",
       " Node(StringNodeId(ns=2;s=Tags.GECO/MPRX_DI_Pressure_Reg_Start_Freq_Hz_I)),\n",
       " Node(StringNodeId(ns=2;s=Tags.GECO/MPRX_DI_Pump_Auto_Reverse_Run_Active)),\n",
       " Node(StringNodeId(ns=2;s=Tags.GECO/MPRX_DI_Pump_Auto_Reverse_Run_Time_s_I)),\n",
       " Node(StringNodeId(ns=2;s=Tags.GECO/MPRX_DI_Pump_Vib_Mode_I)),\n",
       " Node(StringNodeId(ns=2;s=Tags.GECO/MPRX_DI_Pump_Vib_Pause_Time_s_I)),\n",
       " Node(StringNodeId(ns=2;s=Tags.GECO/MPRX_DI_Pump_Vib_Run_Time_s_I)),\n",
       " Node(StringNodeId(ns=2;s=Tags.GECO/MPRX_DI_Reset_Error)),\n",
       " Node(StringNodeId(ns=2;s=Tags.GECO/MPRX_DI_SLD_Printhead_active)),\n",
       " Node(StringNodeId(ns=2;s=Tags.GECO/MPRX_DI_Water_Before_Mixer_s_R)),\n",
       " Node(StringNodeId(ns=2;s=Tags.GECO/MPRX_DI_Water_Flowrate_Set_lh_I)),\n",
       " Node(StringNodeId(ns=2;s=Tags.GECO/MPRX_DI_Wetprobe_Upper_Cov_Delay_s_I)),\n",
       " Node(StringNodeId(ns=2;s=Tags.GECO/MPRX_DI_Wetprobe_Upper_NCov_Delay_s_I)),\n",
       " Node(StringNodeId(ns=2;s=Tags.GECO/MPRX_EXT_DOS1_Run)),\n",
       " Node(StringNodeId(ns=2;s=Tags.GECO/MPRX_EXT_DOS2_Run)),\n",
       " Node(StringNodeId(ns=2;s=Tags.GECO/MPRX_EXT_DOS3_Run)),\n",
       " Node(StringNodeId(ns=2;s=Tags.GECO/MPRX_EXT_FOG_Run)),\n",
       " Node(StringNodeId(ns=2;s=Tags.GECO/MPRX_EXT_Heartbeat)),\n",
       " Node(StringNodeId(ns=2;s=Tags.GECO/MPRX_EXT_MIX_Run)),\n",
       " Node(StringNodeId(ns=2;s=Tags.GECO/MPRX_EXT_Pump_Run)),\n",
       " Node(StringNodeId(ns=2;s=Tags.GECO/MPRX_EXT_Pump_Run_Reverse)),\n",
       " Node(StringNodeId(ns=2;s=Tags.GECO/MPRX_EXT_Pump_Speed_cHz_I)),\n",
       " Node(StringNodeId(ns=2;s=Tags.GECO/MPTX_DI_Air_Humidity_pct_R)),\n",
       " Node(StringNodeId(ns=2;s=Tags.GECO/MPTX_DI_Air_Temperature_C_R)),\n",
       " Node(StringNodeId(ns=2;s=Tags.GECO/MPTX_DI_Mortar_Temperature_C_R)),\n",
       " Node(StringNodeId(ns=2;s=Tags.GECO/MPTX_DI_Water_Temperature_C_R)),\n",
       " Node(StringNodeId(ns=2;s=Tags.GECO/MPXMB_Mixer_OutputCurrent_dA_I)),\n",
       " Node(StringNodeId(ns=2;s=Tags.GECO/MPXMB_Pump_OutputCurrent_dA_I)),\n",
       " Node(StringNodeId(ns=2;s=Tags.GECO/MPXMB_Pump_OutputPower_W_I)),\n",
       " Node(StringNodeId(ns=2;s=Tags.GECO/MPXMB_Waterpump_OutputFrequency_cHz_I)),\n",
       " Node(StringNodeId(ns=2;s=Tags.GECO/MPYMB_Waterpump_FrequencyRef_cHz_I)),\n",
       " Node(StringNodeId(ns=2;s=Tags.GECO/MPY_Valve_Watertank)),\n",
       " Node(StringNodeId(ns=2;s=Tags.GECO/MP_Auto_On)),\n",
       " Node(StringNodeId(ns=2;s=Tags.GECO/MP_DOS1_Flowrate_current_mlmin_I)),\n",
       " Node(StringNodeId(ns=2;s=Tags.GECO/MP_DOS2_Flowrate_current_mlmin_I)),\n",
       " Node(StringNodeId(ns=2;s=Tags.GECO/MP_DOS3_Flowrate_current_mlmin_I)),\n",
       " Node(StringNodeId(ns=2;s=Tags.GECO/MP_Error_Any_Active)),\n",
       " Node(StringNodeId(ns=2;s=Tags.GECO/MP_Master_On)),\n",
       " Node(StringNodeId(ns=2;s=Tags.GECO/MP_Mixer_Run)),\n",
       " Node(StringNodeId(ns=2;s=Tags.GECO/MP_Pressure_reached)),\n",
       " Node(StringNodeId(ns=2;s=Tags.GECO/MP_Pump_Pressure_Current_bar_R)),\n",
       " Node(StringNodeId(ns=2;s=Tags.GECO/MP_Pump_Run)),\n",
       " Node(StringNodeId(ns=2;s=Tags.GECO/MP_Water_Run)),\n",
       " Node(StringNodeId(ns=2;s=Tags.GECO/MP_Waterflowrate_current_Lh_R)),\n",
       " Node(StringNodeId(ns=2;s=Tags.GECO/MP_Waterprobe_Upper_Cov)),\n",
       " Node(StringNodeId(ns=2;s=Tags.PH/PHRX_DI_DOS_Flowrate_Set_mlmin_I)),\n",
       " Node(StringNodeId(ns=2;s=Tags.PH/PHRX_DI_DOS_Reverse)),\n",
       " Node(StringNodeId(ns=2;s=Tags.PH/PHRX_DI_DOS_Run)),\n",
       " Node(StringNodeId(ns=2;s=Tags.PH/PHRX_DI_Level_Probe_Acc_Analog_Sensor_active)),\n",
       " Node(StringNodeId(ns=2;s=Tags.PH/PHRX_DI_Mixer_Run)),\n",
       " Node(StringNodeId(ns=2;s=Tags.PH/PHRX_DI_Mixer_Speed_Set_rpm_I)),\n",
       " Node(StringNodeId(ns=2;s=Tags.PH/PHRX_DI_Printhead_1K_Active)),\n",
       " Node(StringNodeId(ns=2;s=Tags.PH/PHRX_EXT_Close_EV_Acc)),\n",
       " Node(StringNodeId(ns=2;s=Tags.PH/PHRX_EXT_Close_EV_Bypass)),\n",
       " Node(StringNodeId(ns=2;s=Tags.PH/PHRX_EXT_Error_Robot)),\n",
       " Node(StringNodeId(ns=2;s=Tags.PH/PHRX_EXT_Open_EV_Acc)),\n",
       " Node(StringNodeId(ns=2;s=Tags.PH/PHRX_EXT_Open_EV_Bypass)),\n",
       " Node(StringNodeId(ns=2;s=Tags.PH/PHRX_EXT_Open_MV_Cleaning)),\n",
       " Node(StringNodeId(ns=2;s=Tags.PH/PHRX_EXT_Open_MV_Cleaning_Dos)),\n",
       " Node(StringNodeId(ns=2;s=Tags.PH/PHRX_EXT_Open_MV_Cleaning_throttled)),\n",
       " Node(StringNodeId(ns=2;s=Tags.PH/PHRX_EXT_Open_MV_Pinch_Valve)),\n",
       " Node(StringNodeId(ns=2;s=Tags.PH/PHRX_EXT_Open_MV_Vibrator)),\n",
       " Node(StringNodeId(ns=2;s=Tags.PH/PHXMB_Dos_OutputFrequency_cHz_I)),\n",
       " Node(StringNodeId(ns=2;s=Tags.PH/PHXMB_Dos_Status_Fault)),\n",
       " Node(StringNodeId(ns=2;s=Tags.PH/PHXMB_Dos_Status_Run)),\n",
       " Node(StringNodeId(ns=2;s=Tags.PH/PHXMB_Mixer_OutputCurrent_dA_I)),\n",
       " Node(StringNodeId(ns=2;s=Tags.PH/PHXMB_Mixer_OutputPower_W_I)),\n",
       " Node(StringNodeId(ns=2;s=Tags.PH/PHXMB_Mixer_Status_Fault)),\n",
       " Node(StringNodeId(ns=2;s=Tags.PH/PHXMB_Mixer_Status_Run)),\n",
       " Node(StringNodeId(ns=2;s=Tags.PH/PHX_Accelerator_Level_Switch)),\n",
       " Node(StringNodeId(ns=2;s=Tags.PH/PHX_EV_Acc_closed)),\n",
       " Node(StringNodeId(ns=2;s=Tags.PH/PHX_EV_Acc_open)),\n",
       " Node(StringNodeId(ns=2;s=Tags.PH/PHX_EV_Bypass_closed)),\n",
       " Node(StringNodeId(ns=2;s=Tags.PH/PHX_EV_Bypass_open)),\n",
       " Node(StringNodeId(ns=2;s=Tags.PH/PHX_Safety_Circuit_Mixer_Triggered)),\n",
       " Node(StringNodeId(ns=2;s=Tags.PH/PHYMB_DOS_FrequencyRef_cHz_I)),\n",
       " Node(StringNodeId(ns=2;s=Tags.PH/PH_Accelerator_Fill_Level_Current_mm_I)),\n",
       " Node(StringNodeId(ns=2;s=Tags.PH/PH_Accelerator_Pressure_Current_bar_R)),\n",
       " Node(StringNodeId(ns=2;s=Tags.PH/PH_Accelerator_Temperature_Current_C_R)),\n",
       " Node(StringNodeId(ns=2;s=Tags.PH/PH_DOS_Flowrate_Current_mlmin_R)),\n",
       " Node(StringNodeId(ns=2;s=Tags.PH/PH_DOS_Pressure_Current_bar_R)),\n",
       " Node(StringNodeId(ns=2;s=Tags.PH/PH_Mixer_Motor_Capacity_pct_I)),\n",
       " Node(StringNodeId(ns=2;s=Tags.PH/PH_Mixer_Speed_Current_Rpm_I)),\n",
       " Node(StringNodeId(ns=2;s=Tags.PH/PH_Mortar_Pressure_In_Current_bar_R)),\n",
       " Node(StringNodeId(ns=2;s=Tags.PH/PH_Mortar_Temperature_In_C_R)),\n",
       " Node(StringNodeId(ns=2;s=Tags.PH/PH_Mortar_Temperature_Out_C_R))]"
      ]
     },
     "execution_count": 8,
     "metadata": {},
     "output_type": "execute_result"
    }
   ],
   "source": [
    "nodes_v = attributes_node.get_children()\n",
    "nodes_v"
   ]
  },
  {
   "cell_type": "code",
   "execution_count": 9,
   "id": "9702bd51-b6c0-452a-ade7-1804cc9a105c",
   "metadata": {},
   "outputs": [
    {
     "data": {
      "text/plain": [
       "Node(StringNodeId(ns=2;s=Tags.GECO/MPTX_DI_Air_Temperature_C_R))"
      ]
     },
     "execution_count": 9,
     "metadata": {},
     "output_type": "execute_result"
    }
   ],
   "source": [
    "nodes_v[39]"
   ]
  },
  {
   "cell_type": "code",
   "execution_count": 10,
   "id": "7eb8131b-790e-4526-89e1-0a413c9d81c5",
   "metadata": {},
   "outputs": [
    {
     "data": {
      "text/plain": [
       "DataValue(Value:Variant(val:21.029685974121094,type:VariantType.Float), StatusCode:StatusCode(Good), SourceTimestamp:2024-06-21 16:03:05.028951)"
      ]
     },
     "execution_count": 10,
     "metadata": {},
     "output_type": "execute_result"
    }
   ],
   "source": [
    "nodes_v[39].get_data_value()"
   ]
  },
  {
   "cell_type": "code",
   "execution_count": 11,
   "id": "73aa2a77-307a-442c-9c54-1b6f80fc10d2",
   "metadata": {},
   "outputs": [
    {
     "data": {
      "text/plain": [
       "<VariantType.Float: 10>"
      ]
     },
     "execution_count": 11,
     "metadata": {},
     "output_type": "execute_result"
    }
   ],
   "source": [
    "nodes_v[39].get_data_value().Value.VariantType"
   ]
  },
  {
   "cell_type": "code",
   "execution_count": 12,
   "id": "fd019577-9534-4f8a-b39f-128529c76c1f",
   "metadata": {},
   "outputs": [
    {
     "data": {
      "text/plain": [
       "'21.06.2024 16:03:05,050835'"
      ]
     },
     "execution_count": 12,
     "metadata": {},
     "output_type": "execute_result"
    }
   ],
   "source": [
    "nodes_v[39].get_data_value().SourceTimestamp.strftime('%d.%m.%Y %H:%M:%S,%f')"
   ]
  },
  {
   "cell_type": "code",
   "execution_count": 13,
   "id": "60b2df5f-ebcc-4e71-8cb7-c2f7671a6e8a",
   "metadata": {},
   "outputs": [
    {
     "data": {
      "text/plain": [
       "'GECO/MPTX_DI_Air_Temperature_C_R'"
      ]
     },
     "execution_count": 13,
     "metadata": {},
     "output_type": "execute_result"
    }
   ],
   "source": [
    "nodes_v[39].get_display_name().Text"
   ]
  },
  {
   "cell_type": "code",
   "execution_count": 14,
   "id": "3369c65e-022f-4124-beaf-19382910c750",
   "metadata": {},
   "outputs": [
    {
     "name": "stdout",
     "output_type": "stream",
     "text": [
      "idx=0, name=GECO/MPRX_DI_DOS1_Flowrate_50Hz_mlmin_I\n",
      "idx=1, name=GECO/MPRX_DI_DOS2_Flowrate_50Hz_mlmin_I\n",
      "idx=2, name=GECO/MPRX_DI_DOS3_Flowrate_50Hz_mlmin_I\n",
      "idx=3, name=GECO/MPRX_DI_FOG_Flowrate_50Hz_lmin_I\n",
      "idx=4, name=GECO/MPRX_DI_FOG_Foam_Air_Factor_I\n",
      "idx=5, name=GECO/MPRX_DI_FOG_Foam_Density_gl_I\n",
      "idx=6, name=GECO/MPRX_DI_FOG_Foam_Loss_Factor_pct_I\n",
      "idx=7, name=GECO/MPRX_DI_FOG_Foamingagent_pct_R\n",
      "idx=8, name=GECO/MPRX_DI_FOG_RESERVED_Foamingagent_cpct_I\n",
      "idx=9, name=GECO/MPRX_DI_MIX_Speed_Hz_I\n",
      "idx=10, name=GECO/MPRX_DI_Mixer_After_Water_s_R\n",
      "idx=11, name=GECO/MPRX_DI_Mixer_Disabled\n",
      "idx=12, name=GECO/MPRX_DI_Pressure_Limit_bar_R\n",
      "idx=13, name=GECO/MPRX_DI_Pressure_Reg_Acc_Speed_Hz_s_R\n",
      "idx=14, name=GECO/MPRX_DI_Pressure_Reg_Active\n",
      "idx=15, name=GECO/MPRX_DI_Pressure_Reg_Limit_pct_I\n",
      "idx=16, name=GECO/MPRX_DI_Pressure_Reg_Red_Speed_I\n",
      "idx=17, name=GECO/MPRX_DI_Pressure_Reg_Start_Freq_Hz_I\n",
      "idx=18, name=GECO/MPRX_DI_Pump_Auto_Reverse_Run_Active\n",
      "idx=19, name=GECO/MPRX_DI_Pump_Auto_Reverse_Run_Time_s_I\n",
      "idx=20, name=GECO/MPRX_DI_Pump_Vib_Mode_I\n",
      "idx=21, name=GECO/MPRX_DI_Pump_Vib_Pause_Time_s_I\n",
      "idx=22, name=GECO/MPRX_DI_Pump_Vib_Run_Time_s_I\n",
      "idx=23, name=GECO/MPRX_DI_Reset_Error\n",
      "idx=24, name=GECO/MPRX_DI_SLD_Printhead_active\n",
      "idx=25, name=GECO/MPRX_DI_Water_Before_Mixer_s_R\n",
      "idx=26, name=GECO/MPRX_DI_Water_Flowrate_Set_lh_I\n",
      "idx=27, name=GECO/MPRX_DI_Wetprobe_Upper_Cov_Delay_s_I\n",
      "idx=28, name=GECO/MPRX_DI_Wetprobe_Upper_NCov_Delay_s_I\n",
      "idx=29, name=GECO/MPRX_EXT_DOS1_Run\n",
      "idx=30, name=GECO/MPRX_EXT_DOS2_Run\n",
      "idx=31, name=GECO/MPRX_EXT_DOS3_Run\n",
      "idx=32, name=GECO/MPRX_EXT_FOG_Run\n",
      "idx=33, name=GECO/MPRX_EXT_Heartbeat\n",
      "idx=34, name=GECO/MPRX_EXT_MIX_Run\n",
      "idx=35, name=GECO/MPRX_EXT_Pump_Run\n",
      "idx=36, name=GECO/MPRX_EXT_Pump_Run_Reverse\n",
      "idx=37, name=GECO/MPRX_EXT_Pump_Speed_cHz_I\n",
      "idx=38, name=GECO/MPTX_DI_Air_Humidity_pct_R\n",
      "idx=39, name=GECO/MPTX_DI_Air_Temperature_C_R\n",
      "idx=40, name=GECO/MPTX_DI_Mortar_Temperature_C_R\n",
      "idx=41, name=GECO/MPTX_DI_Water_Temperature_C_R\n",
      "idx=42, name=GECO/MPXMB_Mixer_OutputCurrent_dA_I\n",
      "idx=43, name=GECO/MPXMB_Pump_OutputCurrent_dA_I\n",
      "idx=44, name=GECO/MPXMB_Pump_OutputPower_W_I\n",
      "idx=45, name=GECO/MPXMB_Waterpump_OutputFrequency_cHz_I\n",
      "idx=46, name=GECO/MPYMB_Waterpump_FrequencyRef_cHz_I\n",
      "idx=47, name=GECO/MPY_Valve_Watertank\n",
      "idx=48, name=GECO/MP_Auto_On\n",
      "idx=49, name=GECO/MP_DOS1_Flowrate_current_mlmin_I\n",
      "idx=50, name=GECO/MP_DOS2_Flowrate_current_mlmin_I\n",
      "idx=51, name=GECO/MP_DOS3_Flowrate_current_mlmin_I\n",
      "idx=52, name=GECO/MP_Error_Any_Active\n",
      "idx=53, name=GECO/MP_Master_On\n",
      "idx=54, name=GECO/MP_Mixer_Run\n",
      "idx=55, name=GECO/MP_Pressure_reached\n",
      "idx=56, name=GECO/MP_Pump_Pressure_Current_bar_R\n",
      "idx=57, name=GECO/MP_Pump_Run\n",
      "idx=58, name=GECO/MP_Water_Run\n",
      "idx=59, name=GECO/MP_Waterflowrate_current_Lh_R\n",
      "idx=60, name=GECO/MP_Waterprobe_Upper_Cov\n",
      "idx=61, name=PH/PHRX_DI_DOS_Flowrate_Set_mlmin_I\n",
      "idx=62, name=PH/PHRX_DI_DOS_Reverse\n",
      "idx=63, name=PH/PHRX_DI_DOS_Run\n",
      "idx=64, name=PH/PHRX_DI_Level_Probe_Acc_Analog_Sensor_active\n",
      "idx=65, name=PH/PHRX_DI_Mixer_Run\n",
      "idx=66, name=PH/PHRX_DI_Mixer_Speed_Set_rpm_I\n",
      "idx=67, name=PH/PHRX_DI_Printhead_1K_Active\n",
      "idx=68, name=PH/PHRX_EXT_Close_EV_Acc\n",
      "idx=69, name=PH/PHRX_EXT_Close_EV_Bypass\n",
      "idx=70, name=PH/PHRX_EXT_Error_Robot\n",
      "idx=71, name=PH/PHRX_EXT_Open_EV_Acc\n",
      "idx=72, name=PH/PHRX_EXT_Open_EV_Bypass\n",
      "idx=73, name=PH/PHRX_EXT_Open_MV_Cleaning\n",
      "idx=74, name=PH/PHRX_EXT_Open_MV_Cleaning_Dos\n",
      "idx=75, name=PH/PHRX_EXT_Open_MV_Cleaning_throttled\n",
      "idx=76, name=PH/PHRX_EXT_Open_MV_Pinch_Valve\n",
      "idx=77, name=PH/PHRX_EXT_Open_MV_Vibrator\n",
      "idx=78, name=PH/PHXMB_Dos_OutputFrequency_cHz_I\n",
      "idx=79, name=PH/PHXMB_Dos_Status_Fault\n",
      "idx=80, name=PH/PHXMB_Dos_Status_Run\n",
      "idx=81, name=PH/PHXMB_Mixer_OutputCurrent_dA_I\n",
      "idx=82, name=PH/PHXMB_Mixer_OutputPower_W_I\n",
      "idx=83, name=PH/PHXMB_Mixer_Status_Fault\n",
      "idx=84, name=PH/PHXMB_Mixer_Status_Run\n",
      "idx=85, name=PH/PHX_Accelerator_Level_Switch\n",
      "idx=86, name=PH/PHX_EV_Acc_closed\n",
      "idx=87, name=PH/PHX_EV_Acc_open\n",
      "idx=88, name=PH/PHX_EV_Bypass_closed\n",
      "idx=89, name=PH/PHX_EV_Bypass_open\n",
      "idx=90, name=PH/PHX_Safety_Circuit_Mixer_Triggered\n",
      "idx=91, name=PH/PHYMB_DOS_FrequencyRef_cHz_I\n",
      "idx=92, name=PH/PH_Accelerator_Fill_Level_Current_mm_I\n",
      "idx=93, name=PH/PH_Accelerator_Pressure_Current_bar_R\n",
      "idx=94, name=PH/PH_Accelerator_Temperature_Current_C_R\n",
      "idx=95, name=PH/PH_DOS_Flowrate_Current_mlmin_R\n",
      "idx=96, name=PH/PH_DOS_Pressure_Current_bar_R\n",
      "idx=97, name=PH/PH_Mixer_Motor_Capacity_pct_I\n",
      "idx=98, name=PH/PH_Mixer_Speed_Current_Rpm_I\n",
      "idx=99, name=PH/PH_Mortar_Pressure_In_Current_bar_R\n",
      "idx=100, name=PH/PH_Mortar_Temperature_In_C_R\n",
      "idx=101, name=PH/PH_Mortar_Temperature_Out_C_R\n"
     ]
    }
   ],
   "source": [
    "i = 0\n",
    "for n in nodes_v:\n",
    "    print(f\"idx={i}, name={n.get_display_name().Text}\")\n",
    "    i+=1"
   ]
  },
  {
   "cell_type": "code",
   "execution_count": 15,
   "id": "e354e229-1248-40c3-837e-a06bd01ef2b9",
   "metadata": {},
   "outputs": [],
   "source": [
    "timestamp=[]\n",
    "\n",
    "def appendNodeDict(dict, node, idx):\n",
    "    node_name = \"\"\n",
    "    node_value = \"\"\n",
    "    node_value_type = \"\"\n",
    "    node_timestamp = \"\"\n",
    "    node_error = 4\n",
    "    try:\n",
    "        node_name = node.get_display_name().Text\n",
    "        node_error = 3\n",
    "        node_timestamp = node.get_data_value().SourceTimestamp.strftime('%d.%m.%Y %H:%M:%S,%f')\n",
    "        node_error = 2\n",
    "        node_value_type = node.get_data_value().Value.VariantType\n",
    "        node_error = 1\n",
    "        node_value = node.get_data_value().Value.Value\n",
    "        node_error = 0\n",
    "        node = {\"name\":node_name, \"value\":node_value, \n",
    "                \"type\":str(node_value_type), \"timestamp\":node_timestamp, \"error\":node_error}\n",
    "        dict[idx] = node\n",
    "    except:\n",
    "        node = {\"name\":node_name, \"value\":node_value, \n",
    "        \"type\":node_value_type, \"timestamp\":node_timestamp, \"error\":node_error}\n",
    "        dict[idx] = node\n",
    "        \n",
    "        "
   ]
  },
  {
   "cell_type": "code",
   "execution_count": null,
   "id": "1196e9e7-2f12-49ac-80a9-b6e4310b75e3",
   "metadata": {},
   "outputs": [],
   "source": [
    "while True:\n",
    "    temp_dict = {}\n",
    "    i = 0\n",
    "    for n in nodes_v:\n",
    "        appendNodeDict(temp_dict, n, i)\n",
    "        i+=1\n",
    "    \n",
    "    \n",
    "    dt = datetime.datetime.now()\n",
    "    formatted_date = dt.strftime(\"%Y-%m-%d_%H-%M-%S\")\n",
    "    with open(f\"./data/mixer_capture_{formatted_date}.json\", \"w\") as fp:\n",
    "        json.dump(temp_dict, fp)\n",
    "    time.sleep(30)"
   ]
  },
  {
   "cell_type": "code",
   "execution_count": null,
   "id": "7890efa2-d754-4a83-9933-7485042eb76d",
   "metadata": {},
   "outputs": [],
   "source": [
    "temp_dict"
   ]
  },
  {
   "cell_type": "code",
   "execution_count": null,
   "id": "199c0fa0-8f3c-4bb4-9c78-3a35f70c4a05",
   "metadata": {},
   "outputs": [],
   "source": []
  }
 ],
 "metadata": {
  "kernelspec": {
   "display_name": "Python 3 (ipykernel)",
   "language": "python",
   "name": "python3"
  },
  "language_info": {
   "codemirror_mode": {
    "name": "ipython",
    "version": 3
   },
   "file_extension": ".py",
   "mimetype": "text/x-python",
   "name": "python",
   "nbconvert_exporter": "python",
   "pygments_lexer": "ipython3",
   "version": "3.11.9"
  }
 },
 "nbformat": 4,
 "nbformat_minor": 5
}
