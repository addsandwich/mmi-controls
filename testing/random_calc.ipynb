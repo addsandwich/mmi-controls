{
 "cells": [
  {
   "cell_type": "code",
   "execution_count": 1,
   "id": "ad514dde-6f56-4ea1-8ec9-43bd452a1d06",
   "metadata": {},
   "outputs": [],
   "source": [
    "import math"
   ]
  },
  {
   "cell_type": "code",
   "execution_count": 7,
   "id": "c1e983ff-b16e-411a-ad1e-8a77acb3eaa4",
   "metadata": {},
   "outputs": [],
   "source": [
    "thing = (250*9.55*6*math.pi*60)/3"
   ]
  },
  {
   "cell_type": "code",
   "execution_count": 9,
   "id": "fa0e6121-15b6-4ef3-8991-0a874d1642cf",
   "metadata": {},
   "outputs": [],
   "source": [
    "prior = thing*.007\n",
    "after = thing*.160"
   ]
  },
  {
   "cell_type": "code",
   "execution_count": 11,
   "id": "ad97050f-fa20-4c88-b359-b4b38909f003",
   "metadata": {},
   "outputs": [
    {
     "data": {
      "text/plain": [
       "137710.14317378178"
      ]
     },
     "execution_count": 11,
     "metadata": {},
     "output_type": "execute_result"
    }
   ],
   "source": [
    "after-prior"
   ]
  },
  {
   "cell_type": "code",
   "execution_count": 13,
   "id": "7b114327-0b13-4546-abda-c217ad5d89c9",
   "metadata": {},
   "outputs": [
    {
     "data": {
      "text/plain": [
       "9.273981513397068"
      ]
     },
     "execution_count": 13,
     "metadata": {},
     "output_type": "execute_result"
    }
   ],
   "source": [
    ".5*2400*.82*math.pi*.003"
   ]
  },
  {
   "cell_type": "code",
   "execution_count": 23,
   "id": "96381f5b-4ff3-41cc-8137-6f3e26a247ca",
   "metadata": {},
   "outputs": [],
   "source": [
    "def forcecal(xlen, omegw):\n",
    "    res = 36*9.274*(omegw**2)*(xlen**4)/4\n",
    "    return res"
   ]
  },
  {
   "cell_type": "code",
   "execution_count": 29,
   "id": "0dd484f8-f4f9-42cb-b450-76eeb66ccbbf",
   "metadata": {},
   "outputs": [
    {
     "data": {
      "text/plain": [
       "1.499634963840454"
      ]
     },
     "execution_count": 29,
     "metadata": {},
     "output_type": "execute_result"
    }
   ],
   "source": [
    "forcecal(.160, 5.23599)-forcecal(.007, 5.23599)"
   ]
  },
  {
   "cell_type": "code",
   "execution_count": null,
   "id": "2f1c811a-ee00-4b15-b5a3-a0866fdf360b",
   "metadata": {},
   "outputs": [],
   "source": []
  }
 ],
 "metadata": {
  "kernelspec": {
   "display_name": "Python 3 (ipykernel)",
   "language": "python",
   "name": "python3"
  },
  "language_info": {
   "codemirror_mode": {
    "name": "ipython",
    "version": 3
   },
   "file_extension": ".py",
   "mimetype": "text/x-python",
   "name": "python",
   "nbconvert_exporter": "python",
   "pygments_lexer": "ipython3",
   "version": "3.11.9"
  }
 },
 "nbformat": 4,
 "nbformat_minor": 5
}
